{
 "cells": [
  {
   "cell_type": "code",
   "execution_count": 1,
   "metadata": {
    "collapsed": false
   },
   "outputs": [],
   "source": [
    "import string"
   ]
  },
  {
   "cell_type": "code",
   "execution_count": 2,
   "metadata": {
    "collapsed": false
   },
   "outputs": [],
   "source": [
    "def appendToList(file):\n",
    "   for line in file:\n",
    "        line = line.strip()\n",
    "        List = []\n",
    "        List.append(line)\n",
    "        \n",
    "   return List"
   ]
  },
  {
   "cell_type": "code",
   "execution_count": 3,
   "metadata": {
    "collapsed": false,
    "scrolled": true
   },
   "outputs": [
    {
     "data": {
      "text/plain": [
       "['g']"
      ]
     },
     "execution_count": 3,
     "metadata": {},
     "output_type": "execute_result"
    }
   ],
   "source": [
    "appendToList(\"cnn-text-classification-tf/data/rt-polaritydata/rt-polarity.neg\")"
   ]
  },
  {
   "cell_type": "code",
   "execution_count": 4,
   "metadata": {
    "collapsed": false
   },
   "outputs": [],
   "source": [
    "negrevs = open('cnn-text-classification-tf/data/rt-polaritydata/rt-polarity.neg').read().splitlines()"
   ]
  },
  {
   "cell_type": "code",
   "execution_count": 5,
   "metadata": {
    "collapsed": false
   },
   "outputs": [],
   "source": [
    "posrevs = open('cnn-text-classification-tf/data/rt-polaritydata/rt-polarity.pos').read().splitlines()"
   ]
  },
  {
   "cell_type": "code",
   "execution_count": 6,
   "metadata": {
    "collapsed": true
   },
   "outputs": [],
   "source": [
    "from string import punctuation\n",
    "def strip_punctuation(s):\n",
    "    return ''.join(c for c in s if c not in punctuation)\n",
    "    \n"
   ]
  },
  {
   "cell_type": "code",
   "execution_count": 7,
   "metadata": {
    "collapsed": false
   },
   "outputs": [
    {
     "name": "stdout",
     "output_type": "stream",
     "text": [
      "simplistic , silly and tedious . \n"
     ]
    }
   ],
   "source": [
    "print(negrevs[0])"
   ]
  },
  {
   "cell_type": "code",
   "execution_count": 8,
   "metadata": {
    "collapsed": false
   },
   "outputs": [
    {
     "name": "stdout",
     "output_type": "stream",
     "text": [
      "the story is also as unoriginal as they come , already having been recycled more times than i'd care to count . \n"
     ]
    }
   ],
   "source": [
    "print(negrevs[5])"
   ]
  },
  {
   "cell_type": "code",
   "execution_count": 9,
   "metadata": {
    "collapsed": true
   },
   "outputs": [],
   "source": [
    "def removePunct(s):\n",
    "    import string\n",
    "    punct = set(string.punctuation)\n",
    "\n",
    "    ''.join(x for x in s if x not in punct)"
   ]
  },
  {
   "cell_type": "code",
   "execution_count": 10,
   "metadata": {
    "collapsed": false
   },
   "outputs": [
    {
     "name": "stdout",
     "output_type": "stream",
     "text": [
      "None\n"
     ]
    }
   ],
   "source": [
    "print(removePunct('A man , with a plan'))"
   ]
  },
  {
   "cell_type": "code",
   "execution_count": 11,
   "metadata": {
    "collapsed": false
   },
   "outputs": [
    {
     "name": "stdout",
     "output_type": "stream",
     "text": [
      "A man with a\n"
     ]
    }
   ],
   "source": [
    "print(strip_punctuation('A man, with a'))"
   ]
  },
  {
   "cell_type": "code",
   "execution_count": 12,
   "metadata": {
    "collapsed": false
   },
   "outputs": [
    {
     "name": "stdout",
     "output_type": "stream",
     "text": [
      "simplistic  silly and tedious  \n"
     ]
    }
   ],
   "source": [
    "print(strip_punctuation(negrevs[0]))"
   ]
  },
  {
   "cell_type": "code",
   "execution_count": 13,
   "metadata": {
    "collapsed": false
   },
   "outputs": [],
   "source": [
    "def cleanString(s):\n",
    "       sclean = strip_punctuation(s)\n",
    "    \n",
    "       return sclean\n",
    "    "
   ]
  },
  {
   "cell_type": "code",
   "execution_count": 14,
   "metadata": {
    "collapsed": true
   },
   "outputs": [],
   "source": [
    "def appendCleanToList(List):\n",
    "    cleanList =[]\n",
    "    for s in List:\n",
    "       \n",
    "        cleanList.append(cleanString(s))\n",
    "    return cleanList"
   ]
  },
  {
   "cell_type": "code",
   "execution_count": 15,
   "metadata": {
    "collapsed": false
   },
   "outputs": [],
   "source": [
    "cleanNeg = appendCleanToList(negrevs)"
   ]
  },
  {
   "cell_type": "code",
   "execution_count": 16,
   "metadata": {
    "collapsed": false
   },
   "outputs": [
    {
     "data": {
      "text/plain": [
       "'simplistic  silly and tedious  '"
      ]
     },
     "execution_count": 16,
     "metadata": {},
     "output_type": "execute_result"
    }
   ],
   "source": [
    "cleanNeg[0]"
   ]
  },
  {
   "cell_type": "code",
   "execution_count": 17,
   "metadata": {
    "collapsed": false
   },
   "outputs": [
    {
     "data": {
      "text/plain": [
       "'its so laddish and juvenile  only teenage boys could possibly find it funny  '"
      ]
     },
     "execution_count": 17,
     "metadata": {},
     "output_type": "execute_result"
    }
   ],
   "source": [
    "cleanNeg[1]"
   ]
  },
  {
   "cell_type": "code",
   "execution_count": 18,
   "metadata": {
    "collapsed": false
   },
   "outputs": [
    {
     "name": "stdout",
     "output_type": "stream",
     "text": [
      "the story is also as unoriginal as they come  already having been recycled more times than id care to count  \n"
     ]
    }
   ],
   "source": [
    "print(cleanNeg[5])"
   ]
  },
  {
   "cell_type": "code",
   "execution_count": 19,
   "metadata": {
    "collapsed": true
   },
   "outputs": [],
   "source": [
    "cleanPos = appendCleanToList(posrevs)"
   ]
  },
  {
   "cell_type": "code",
   "execution_count": 20,
   "metadata": {
    "collapsed": false
   },
   "outputs": [
    {
     "name": "stdout",
     "output_type": "stream",
     "text": [
      "the film provides some great insight into the neurotic mindset of all comics  even those who have reached the absolute top of the game  \n"
     ]
    }
   ],
   "source": [
    "print(cleanPos[5])"
   ]
  },
  {
   "cell_type": "markdown",
   "metadata": {
    "collapsed": false
   },
   "source": [
    "# Prior probabilities"
   ]
  },
  {
   "cell_type": "code",
   "execution_count": 21,
   "metadata": {
    "collapsed": true
   },
   "outputs": [],
   "source": [
    "def calcpriorProb(listClass,listTotal):\n",
    "    return len(listClass)/len(listTotal)"
   ]
  },
  {
   "cell_type": "code",
   "execution_count": 22,
   "metadata": {
    "collapsed": true
   },
   "outputs": [],
   "source": [
    "totalRevs = cleanPos + cleanNeg"
   ]
  },
  {
   "cell_type": "code",
   "execution_count": 23,
   "metadata": {
    "collapsed": false
   },
   "outputs": [],
   "source": [
    "negPrior = calcpriorProb(cleanNeg,totalRevs)"
   ]
  },
  {
   "cell_type": "code",
   "execution_count": 24,
   "metadata": {
    "collapsed": false
   },
   "outputs": [
    {
     "data": {
      "text/plain": [
       "0.5"
      ]
     },
     "execution_count": 24,
     "metadata": {},
     "output_type": "execute_result"
    }
   ],
   "source": [
    "negPrior"
   ]
  },
  {
   "cell_type": "code",
   "execution_count": 25,
   "metadata": {
    "collapsed": true
   },
   "outputs": [],
   "source": [
    "posPrior = calcpriorProb(cleanPos,totalRevs)"
   ]
  },
  {
   "cell_type": "code",
   "execution_count": 26,
   "metadata": {
    "collapsed": false
   },
   "outputs": [
    {
     "data": {
      "text/plain": [
       "0.5"
      ]
     },
     "execution_count": 26,
     "metadata": {},
     "output_type": "execute_result"
    }
   ],
   "source": [
    "posPrior"
   ]
  },
  {
   "cell_type": "code",
   "execution_count": 27,
   "metadata": {
    "collapsed": false
   },
   "outputs": [],
   "source": [
    "import re\n",
    "def tokenize(string):\n",
    "   \n",
    "    string = string.lower()\n",
    "    return re.split(\"\\W+\", string)"
   ]
  },
  {
   "cell_type": "code",
   "execution_count": 28,
   "metadata": {
    "collapsed": true
   },
   "outputs": [],
   "source": [
    "def count_words(words):\n",
    "    wc = {}\n",
    "    for word in words:\n",
    "        wc[word] = wc.get(word, 0.0) + 1.0\n",
    "    return wc"
   ]
  },
  {
   "cell_type": "code",
   "execution_count": null,
   "metadata": {
    "collapsed": false
   },
   "outputs": [],
   "source": []
  },
  {
   "cell_type": "code",
   "execution_count": 29,
   "metadata": {
    "collapsed": true
   },
   "outputs": [],
   "source": [
    "import collections,re"
   ]
  },
  {
   "cell_type": "code",
   "execution_count": 30,
   "metadata": {
    "collapsed": false
   },
   "outputs": [],
   "source": [
    "negBagsofWords = [ collections.Counter(re.findall(r'\\w+', txt))\n",
    "            for txt in negrevs]\n",
    "\n",
    "\n"
   ]
  },
  {
   "cell_type": "code",
   "execution_count": 31,
   "metadata": {
    "collapsed": false
   },
   "outputs": [
    {
     "data": {
      "text/plain": [
       "Counter({'absolute': 1,\n",
       "         'all': 1,\n",
       "         'comics': 1,\n",
       "         'even': 1,\n",
       "         'film': 1,\n",
       "         'game': 1,\n",
       "         'great': 1,\n",
       "         'have': 1,\n",
       "         'insight': 1,\n",
       "         'into': 1,\n",
       "         'mindset': 1,\n",
       "         'neurotic': 1,\n",
       "         'of': 2,\n",
       "         'provides': 1,\n",
       "         'reached': 1,\n",
       "         'some': 1,\n",
       "         'the': 4,\n",
       "         'those': 1,\n",
       "         'top': 1,\n",
       "         'who': 1})"
      ]
     },
     "execution_count": 31,
     "metadata": {},
     "output_type": "execute_result"
    }
   ],
   "source": [
    "negBagsofWords[0]\n",
    "posBagsofWords = [ collections.Counter(re.findall(r'\\w+', txt))\n",
    "            for txt in posrevs]\n",
    "posBagsofWords[5]"
   ]
  },
  {
   "cell_type": "code",
   "execution_count": 32,
   "metadata": {
    "collapsed": false
   },
   "outputs": [],
   "source": [
    "sumneg = sum(negBagsofWords, collections.Counter())\n"
   ]
  },
  {
   "cell_type": "code",
   "execution_count": 33,
   "metadata": {
    "collapsed": false
   },
   "outputs": [],
   "source": [
    "#sumneg"
   ]
  },
  {
   "cell_type": "code",
   "execution_count": 34,
   "metadata": {
    "collapsed": false
   },
   "outputs": [],
   "source": [
    "sumpos = sum(posBagsofWords, collections.Counter())\n"
   ]
  },
  {
   "cell_type": "code",
   "execution_count": 35,
   "metadata": {
    "collapsed": false
   },
   "outputs": [
    {
     "data": {
      "text/plain": [
       "0"
      ]
     },
     "execution_count": 35,
     "metadata": {},
     "output_type": "execute_result"
    }
   ],
   "source": [
    "sumRevs = sumneg + sumpos\n",
    "sumRevs[5]"
   ]
  },
  {
   "cell_type": "code",
   "execution_count": null,
   "metadata": {
    "collapsed": false
   },
   "outputs": [],
   "source": []
  },
  {
   "cell_type": "code",
   "execution_count": 36,
   "metadata": {
    "collapsed": false
   },
   "outputs": [
    {
     "name": "stdout",
     "output_type": "stream",
     "text": [
      "[[1, 2, 3, 4, 5], [123, 234, 456]]\n"
     ]
    }
   ],
   "source": [
    "list1=[1,2,3,4,5]\n",
    "list2=[123,234,456]\n",
    "d={'a':[],'b':[]}\n",
    "d['a'].append(list1)\n",
    "d['a'].append(list2)\n",
    "print (d['a'])"
   ]
  },
  {
   "cell_type": "code",
   "execution_count": 37,
   "metadata": {
    "collapsed": false
   },
   "outputs": [],
   "source": [
    "d = dict.fromkeys([negrevs[0]], -1)"
   ]
  },
  {
   "cell_type": "code",
   "execution_count": 38,
   "metadata": {
    "collapsed": false
   },
   "outputs": [],
   "source": [
    "def appendtodict(List,value):\n",
    "    fulld = {}\n",
    "    for string in List:\n",
    "       d = dict.fromkeys([string],value)\n",
    "    fulld.append(d)\n",
    "    return fulld"
   ]
  },
  {
   "cell_type": "code",
   "execution_count": 39,
   "metadata": {
    "collapsed": false
   },
   "outputs": [],
   "source": [
    "#appendtodict(negrevs,-1)"
   ]
  },
  {
   "cell_type": "code",
   "execution_count": 40,
   "metadata": {
    "collapsed": false
   },
   "outputs": [],
   "source": [
    "#revsDict = {}\n",
    "#for key in negrevs:\n",
    " #   myDict[key] = -1\n",
    "#for key in posrevs:\n",
    " #   myDict[key] = 1"
   ]
  },
  {
   "cell_type": "code",
   "execution_count": 41,
   "metadata": {
    "collapsed": false
   },
   "outputs": [],
   "source": [
    "#from sklearn.cross_validation import train_test_split\n",
    "#X_train, X_test, y_train, y_test = train_test_split(revsDict[key],revsDict[values], test_size=0.15, random_state=0)"
   ]
  },
  {
   "cell_type": "code",
   "execution_count": null,
   "metadata": {
    "collapsed": false
   },
   "outputs": [],
   "source": []
  },
  {
   "cell_type": "code",
   "execution_count": null,
   "metadata": {
    "collapsed": false
   },
   "outputs": [],
   "source": []
  },
  {
   "cell_type": "code",
   "execution_count": 42,
   "metadata": {
    "collapsed": false
   },
   "outputs": [],
   "source": [
    "#s.head(5)"
   ]
  },
  {
   "cell_type": "code",
   "execution_count": 43,
   "metadata": {
    "collapsed": false
   },
   "outputs": [],
   "source": [
    "#df = pd.DataFrame(list(revsDict.items()))"
   ]
  },
  {
   "cell_type": "code",
   "execution_count": 44,
   "metadata": {
    "collapsed": false
   },
   "outputs": [],
   "source": [
    "#df.head(5)"
   ]
  },
  {
   "cell_type": "code",
   "execution_count": 45,
   "metadata": {
    "collapsed": false
   },
   "outputs": [],
   "source": [
    "#df = pd.DataFrame.from_dict(revsDict)"
   ]
  },
  {
   "cell_type": "code",
   "execution_count": 46,
   "metadata": {
    "collapsed": false
   },
   "outputs": [],
   "source": [
    "#df.head(5)"
   ]
  },
  {
   "cell_type": "code",
   "execution_count": 47,
   "metadata": {
    "collapsed": false
   },
   "outputs": [],
   "source": [
    "#dtest =dict(revsDict[len(revsDict)*0.15])"
   ]
  },
  {
   "cell_type": "code",
   "execution_count": null,
   "metadata": {
    "collapsed": false
   },
   "outputs": [],
   "source": []
  },
  {
   "cell_type": "code",
   "execution_count": 48,
   "metadata": {
    "collapsed": false
   },
   "outputs": [],
   "source": [
    "#train_data = revsShuffled[:85]\n",
    "#test_data = revsShuffled[:15]"
   ]
  },
  {
   "cell_type": "code",
   "execution_count": 49,
   "metadata": {
    "collapsed": true
   },
   "outputs": [],
   "source": [
    "###Naive Bayes "
   ]
  },
  {
   "cell_type": "code",
   "execution_count": 50,
   "metadata": {
    "collapsed": false
   },
   "outputs": [],
   "source": [
    "#top10 = dict(sorted(sumRevs.items(), key=operator.itemgetter(1), reverse=True)[:5])"
   ]
  },
  {
   "cell_type": "code",
   "execution_count": 51,
   "metadata": {
    "collapsed": false
   },
   "outputs": [],
   "source": [
    "topWords = dict(sumRevs.most_common(50))\n",
    "#topWords"
   ]
  },
  {
   "cell_type": "code",
   "execution_count": 52,
   "metadata": {
    "collapsed": true
   },
   "outputs": [],
   "source": [
    "### Naive Bayes"
   ]
  },
  {
   "cell_type": "code",
   "execution_count": 53,
   "metadata": {
    "collapsed": false
   },
   "outputs": [],
   "source": [
    "def getKey(self,dict):\n",
    "    for self.word in string:\n",
    "        if dict.get(word):\n",
    "            print(\"hello\")\n",
    "        return dict.get(word)\n",
    "        "
   ]
  },
  {
   "cell_type": "code",
   "execution_count": 54,
   "metadata": {
    "collapsed": false
   },
   "outputs": [
    {
     "data": {
      "text/plain": [
       "0"
      ]
     },
     "execution_count": 54,
     "metadata": {},
     "output_type": "execute_result"
    }
   ],
   "source": [
    "sumRevs[0]"
   ]
  },
  {
   "cell_type": "code",
   "execution_count": 55,
   "metadata": {
    "collapsed": false
   },
   "outputs": [
    {
     "data": {
      "text/plain": [
       "0"
      ]
     },
     "execution_count": 55,
     "metadata": {},
     "output_type": "execute_result"
    }
   ],
   "source": [
    "sumRevs[5]"
   ]
  },
  {
   "cell_type": "code",
   "execution_count": null,
   "metadata": {
    "collapsed": false
   },
   "outputs": [],
   "source": [
    "\n",
    "\n",
    "   "
   ]
  },
  {
   "cell_type": "code",
   "execution_count": 56,
   "metadata": {
    "collapsed": false
   },
   "outputs": [],
   "source": [
    "sp = sum(sumpos.values())"
   ]
  },
  {
   "cell_type": "code",
   "execution_count": 57,
   "metadata": {
    "collapsed": false
   },
   "outputs": [],
   "source": [
    "sn = sum(sumneg.values())"
   ]
  },
  {
   "cell_type": "code",
   "execution_count": 58,
   "metadata": {
    "collapsed": false
   },
   "outputs": [],
   "source": [
    "p = sumpos.get(\"a\")/sp"
   ]
  },
  {
   "cell_type": "code",
   "execution_count": 59,
   "metadata": {
    "collapsed": false
   },
   "outputs": [
    {
     "data": {
      "text/plain": [
       "0.03739766506806181"
      ]
     },
     "execution_count": 59,
     "metadata": {},
     "output_type": "execute_result"
    }
   ],
   "source": [
    "p"
   ]
  },
  {
   "cell_type": "code",
   "execution_count": 60,
   "metadata": {
    "collapsed": false
   },
   "outputs": [],
   "source": [
    "\n",
    "#def ConditionalProb(Vocab,word,dict,)"
   ]
  },
  {
   "cell_type": "code",
   "execution_count": 61,
   "metadata": {
    "collapsed": false
   },
   "outputs": [],
   "source": [
    "import random\n",
    "random.shuffle(totalRevs)\n",
    "\n",
    "train_data = totalRevs[:85]\n",
    "test_data = totalRevs[15:]"
   ]
  },
  {
   "cell_type": "code",
   "execution_count": 62,
   "metadata": {
    "collapsed": false
   },
   "outputs": [
    {
     "data": {
      "text/plain": [
       "'you can see where big bad love is trying to go  but it never quite gets there  '"
      ]
     },
     "execution_count": 62,
     "metadata": {},
     "output_type": "execute_result"
    }
   ],
   "source": [
    "train_data[15]"
   ]
  },
  {
   "cell_type": "code",
   "execution_count": 63,
   "metadata": {
    "collapsed": false
   },
   "outputs": [],
   "source": [
    "def condtProb(Vocab,word,dict):\n",
    "    \n",
    "    if (dict.get(word)):\n",
    "        wordCount = dict.get(word)\n",
    "        #print(wordCount)\n",
    "    else: wordCount = 0\n",
    "        \n",
    "    classWordSum = sum(dict.values())\n",
    "    #print(classWordSum)\n",
    "    #print(Vocab)\n",
    "    cp = (wordCount+1)/(classWordSum+Vocab)\n",
    "    return cp"
   ]
  },
  {
   "cell_type": "code",
   "execution_count": 64,
   "metadata": {
    "collapsed": false
   },
   "outputs": [],
   "source": [
    "cpos = condtProb(len(topWords),\"a\",sumpos)"
   ]
  },
  {
   "cell_type": "code",
   "execution_count": 65,
   "metadata": {
    "collapsed": false
   },
   "outputs": [
    {
     "data": {
      "text/plain": [
       "0.03738924127245437"
      ]
     },
     "execution_count": 65,
     "metadata": {},
     "output_type": "execute_result"
    }
   ],
   "source": [
    "cpos"
   ]
  },
  {
   "cell_type": "code",
   "execution_count": 66,
   "metadata": {
    "collapsed": false
   },
   "outputs": [],
   "source": [
    "#cneg"
   ]
  },
  {
   "cell_type": "code",
   "execution_count": 92,
   "metadata": {
    "collapsed": false
   },
   "outputs": [],
   "source": [
    "def sumCondtProb(string,Vocab,dict):\n",
    "    for word in string:\n",
    "        stringProb = condtProb(Vocab,word,dict)\n",
    "        stringProb *= stringProb\n",
    "    return stringProb\n",
    "    #print(stringProb)"
   ]
  },
  {
   "cell_type": "code",
   "execution_count": 93,
   "metadata": {
    "collapsed": false
   },
   "outputs": [],
   "source": [
    "#poscondtProb= sumCondtProb(train_data[5],200,sumpos)"
   ]
  },
  {
   "cell_type": "code",
   "execution_count": 94,
   "metadata": {
    "collapsed": false
   },
   "outputs": [],
   "source": [
    "#negcondtProb = sumCondtProb(train_data[5],200,sumneg)"
   ]
  },
  {
   "cell_type": "code",
   "execution_count": null,
   "metadata": {
    "collapsed": false
   },
   "outputs": [],
   "source": []
  },
  {
   "cell_type": "code",
   "execution_count": 95,
   "metadata": {
    "collapsed": true
   },
   "outputs": [],
   "source": [
    "#def truepos(poscondtProb,negcondtProb)"
   ]
  },
  {
   "cell_type": "code",
   "execution_count": 96,
   "metadata": {
    "collapsed": false
   },
   "outputs": [],
   "source": [
    "#revsDict[5]"
   ]
  },
  {
   "cell_type": "code",
   "execution_count": 97,
   "metadata": {
    "collapsed": false
   },
   "outputs": [
    {
     "name": "stdout",
     "output_type": "stream",
     "text": [
      "the rock is destined to be the 21st centurys new  conan  and that hes going to make a splash even greater than arnold schwarzenegger  jeanclaud van damme or steven segal  \n"
     ]
    }
   ],
   "source": [
    "print(cleanPos[0])"
   ]
  },
  {
   "cell_type": "code",
   "execution_count": 98,
   "metadata": {
    "collapsed": false
   },
   "outputs": [],
   "source": [
    "#d = { label: float(0) for value,label in cleanPos}"
   ]
  },
  {
   "cell_type": "code",
   "execution_count": 99,
   "metadata": {
    "collapsed": false
   },
   "outputs": [
    {
     "name": "stdout",
     "output_type": "stream",
     "text": [
      "the film provides some great insight into the neurotic mindset of all comics  even those who have reached the absolute top of the game  \n"
     ]
    }
   ],
   "source": [
    "print(cleanPos[5])"
   ]
  },
  {
   "cell_type": "code",
   "execution_count": 128,
   "metadata": {
    "collapsed": false
   },
   "outputs": [
    {
     "data": {
      "text/plain": [
       "[-1,\n",
       " -1,\n",
       " -1,\n",
       " -1,\n",
       " -1,\n",
       " -1,\n",
       " -1,\n",
       " -1,\n",
       " -1,\n",
       " -1,\n",
       " -1,\n",
       " -1,\n",
       " -1,\n",
       " -1,\n",
       " -1,\n",
       " -1,\n",
       " -1,\n",
       " -1,\n",
       " -1,\n",
       " -1,\n",
       " -1,\n",
       " -1,\n",
       " -1,\n",
       " -1,\n",
       " -1,\n",
       " -1,\n",
       " -1,\n",
       " -1,\n",
       " -1,\n",
       " -1,\n",
       " -1,\n",
       " -1,\n",
       " -1,\n",
       " -1,\n",
       " -1,\n",
       " -1,\n",
       " -1,\n",
       " -1,\n",
       " -1,\n",
       " -1,\n",
       " -1,\n",
       " -1,\n",
       " -1,\n",
       " -1,\n",
       " -1,\n",
       " -1,\n",
       " -1,\n",
       " -1,\n",
       " -1,\n",
       " -1,\n",
       " -1,\n",
       " -1,\n",
       " -1,\n",
       " -1,\n",
       " -1,\n",
       " -1,\n",
       " -1,\n",
       " -1,\n",
       " -1,\n",
       " -1,\n",
       " -1,\n",
       " -1,\n",
       " -1,\n",
       " -1,\n",
       " -1,\n",
       " -1,\n",
       " -1,\n",
       " -1,\n",
       " -1,\n",
       " -1,\n",
       " -1,\n",
       " -1,\n",
       " -1,\n",
       " -1,\n",
       " -1,\n",
       " -1,\n",
       " -1,\n",
       " -1,\n",
       " -1,\n",
       " -1,\n",
       " -1,\n",
       " -1,\n",
       " -1,\n",
       " -1,\n",
       " -1,\n",
       " -1,\n",
       " -1,\n",
       " -1,\n",
       " -1,\n",
       " -1,\n",
       " -1,\n",
       " -1,\n",
       " -1,\n",
       " -1,\n",
       " -1,\n",
       " -1,\n",
       " -1,\n",
       " -1,\n",
       " -1,\n",
       " -1,\n",
       " -1,\n",
       " -1,\n",
       " -1,\n",
       " -1,\n",
       " -1,\n",
       " -1,\n",
       " -1,\n",
       " -1,\n",
       " -1,\n",
       " -1,\n",
       " -1,\n",
       " -1,\n",
       " -1,\n",
       " -1,\n",
       " -1,\n",
       " -1,\n",
       " -1,\n",
       " -1,\n",
       " -1,\n",
       " -1,\n",
       " -1,\n",
       " -1,\n",
       " -1,\n",
       " -1,\n",
       " -1,\n",
       " -1,\n",
       " -1,\n",
       " -1,\n",
       " -1,\n",
       " -1,\n",
       " -1,\n",
       " -1,\n",
       " -1,\n",
       " -1,\n",
       " -1,\n",
       " -1,\n",
       " -1,\n",
       " -1,\n",
       " -1,\n",
       " -1,\n",
       " -1,\n",
       " -1,\n",
       " -1,\n",
       " -1,\n",
       " -1,\n",
       " -1,\n",
       " -1,\n",
       " -1,\n",
       " -1,\n",
       " -1,\n",
       " -1,\n",
       " -1,\n",
       " -1,\n",
       " -1,\n",
       " -1,\n",
       " -1,\n",
       " -1,\n",
       " -1,\n",
       " -1,\n",
       " -1,\n",
       " -1,\n",
       " -1,\n",
       " -1,\n",
       " -1,\n",
       " -1,\n",
       " -1,\n",
       " -1,\n",
       " -1,\n",
       " -1,\n",
       " -1,\n",
       " -1,\n",
       " -1,\n",
       " -1,\n",
       " -1,\n",
       " -1,\n",
       " -1,\n",
       " -1,\n",
       " -1,\n",
       " -1,\n",
       " -1,\n",
       " -1,\n",
       " -1,\n",
       " -1,\n",
       " -1,\n",
       " -1,\n",
       " -1,\n",
       " -1,\n",
       " -1,\n",
       " -1,\n",
       " -1,\n",
       " -1,\n",
       " -1,\n",
       " -1,\n",
       " -1,\n",
       " -1,\n",
       " -1,\n",
       " -1,\n",
       " -1,\n",
       " -1,\n",
       " -1,\n",
       " -1,\n",
       " -1,\n",
       " -1,\n",
       " -1,\n",
       " -1,\n",
       " -1,\n",
       " -1,\n",
       " -1,\n",
       " -1,\n",
       " -1,\n",
       " -1,\n",
       " -1,\n",
       " -1,\n",
       " -1,\n",
       " -1,\n",
       " -1,\n",
       " -1,\n",
       " -1,\n",
       " -1,\n",
       " -1,\n",
       " -1,\n",
       " -1,\n",
       " -1,\n",
       " -1,\n",
       " -1,\n",
       " -1,\n",
       " -1,\n",
       " -1,\n",
       " -1,\n",
       " -1,\n",
       " -1,\n",
       " -1,\n",
       " -1,\n",
       " -1,\n",
       " -1,\n",
       " -1,\n",
       " -1,\n",
       " -1,\n",
       " -1,\n",
       " -1,\n",
       " -1,\n",
       " -1,\n",
       " -1,\n",
       " -1,\n",
       " -1,\n",
       " -1,\n",
       " -1,\n",
       " -1,\n",
       " -1,\n",
       " -1,\n",
       " -1,\n",
       " -1,\n",
       " -1,\n",
       " -1,\n",
       " -1,\n",
       " -1,\n",
       " -1,\n",
       " -1,\n",
       " -1,\n",
       " -1,\n",
       " -1,\n",
       " -1,\n",
       " -1,\n",
       " -1,\n",
       " -1,\n",
       " -1,\n",
       " -1,\n",
       " -1,\n",
       " -1,\n",
       " -1,\n",
       " -1,\n",
       " -1,\n",
       " -1,\n",
       " -1,\n",
       " -1,\n",
       " -1,\n",
       " -1,\n",
       " -1,\n",
       " -1,\n",
       " -1,\n",
       " -1,\n",
       " -1,\n",
       " -1,\n",
       " -1,\n",
       " -1,\n",
       " -1,\n",
       " -1,\n",
       " -1,\n",
       " -1,\n",
       " -1,\n",
       " -1,\n",
       " -1,\n",
       " -1,\n",
       " -1,\n",
       " -1,\n",
       " -1,\n",
       " -1,\n",
       " -1,\n",
       " -1,\n",
       " -1,\n",
       " -1,\n",
       " -1,\n",
       " -1,\n",
       " -1,\n",
       " -1,\n",
       " -1,\n",
       " -1,\n",
       " -1,\n",
       " -1,\n",
       " -1,\n",
       " -1,\n",
       " -1,\n",
       " -1,\n",
       " -1,\n",
       " -1,\n",
       " -1,\n",
       " -1,\n",
       " -1,\n",
       " -1,\n",
       " -1,\n",
       " -1,\n",
       " -1,\n",
       " -1,\n",
       " -1,\n",
       " -1,\n",
       " -1,\n",
       " -1,\n",
       " -1,\n",
       " -1,\n",
       " -1,\n",
       " -1,\n",
       " -1,\n",
       " -1,\n",
       " -1,\n",
       " -1,\n",
       " -1,\n",
       " -1,\n",
       " -1,\n",
       " -1,\n",
       " -1,\n",
       " -1,\n",
       " -1,\n",
       " -1,\n",
       " -1,\n",
       " -1,\n",
       " -1,\n",
       " -1,\n",
       " -1,\n",
       " -1,\n",
       " -1,\n",
       " -1,\n",
       " -1,\n",
       " -1,\n",
       " -1,\n",
       " -1,\n",
       " -1,\n",
       " -1,\n",
       " -1,\n",
       " -1,\n",
       " -1,\n",
       " -1,\n",
       " -1,\n",
       " -1,\n",
       " -1,\n",
       " -1,\n",
       " -1,\n",
       " -1,\n",
       " -1,\n",
       " -1,\n",
       " -1,\n",
       " -1,\n",
       " -1,\n",
       " -1,\n",
       " -1,\n",
       " -1,\n",
       " -1,\n",
       " -1,\n",
       " -1,\n",
       " -1,\n",
       " -1,\n",
       " -1,\n",
       " -1,\n",
       " -1,\n",
       " -1,\n",
       " -1,\n",
       " -1,\n",
       " -1,\n",
       " -1,\n",
       " -1,\n",
       " -1,\n",
       " -1,\n",
       " -1,\n",
       " -1,\n",
       " -1,\n",
       " -1,\n",
       " -1,\n",
       " -1,\n",
       " -1,\n",
       " -1,\n",
       " -1,\n",
       " -1,\n",
       " -1,\n",
       " -1,\n",
       " -1,\n",
       " -1,\n",
       " -1,\n",
       " -1,\n",
       " -1,\n",
       " -1,\n",
       " -1,\n",
       " -1,\n",
       " -1,\n",
       " -1,\n",
       " -1,\n",
       " -1,\n",
       " -1,\n",
       " -1,\n",
       " -1,\n",
       " -1,\n",
       " -1,\n",
       " -1,\n",
       " -1,\n",
       " -1,\n",
       " -1,\n",
       " -1,\n",
       " -1,\n",
       " -1,\n",
       " -1,\n",
       " -1,\n",
       " -1,\n",
       " -1,\n",
       " -1,\n",
       " -1,\n",
       " -1,\n",
       " -1,\n",
       " -1,\n",
       " -1,\n",
       " -1,\n",
       " -1,\n",
       " -1,\n",
       " -1,\n",
       " -1,\n",
       " -1,\n",
       " -1,\n",
       " -1,\n",
       " -1,\n",
       " -1,\n",
       " -1,\n",
       " -1,\n",
       " -1,\n",
       " -1,\n",
       " -1,\n",
       " -1,\n",
       " -1,\n",
       " -1,\n",
       " -1,\n",
       " -1,\n",
       " -1,\n",
       " -1,\n",
       " -1,\n",
       " -1,\n",
       " -1,\n",
       " -1,\n",
       " -1,\n",
       " -1,\n",
       " -1,\n",
       " -1,\n",
       " -1,\n",
       " -1,\n",
       " -1,\n",
       " -1,\n",
       " -1,\n",
       " -1,\n",
       " -1,\n",
       " -1,\n",
       " -1,\n",
       " -1,\n",
       " -1,\n",
       " -1,\n",
       " -1,\n",
       " -1,\n",
       " -1,\n",
       " -1,\n",
       " -1,\n",
       " -1,\n",
       " -1,\n",
       " -1,\n",
       " -1,\n",
       " -1,\n",
       " -1,\n",
       " -1,\n",
       " -1,\n",
       " -1,\n",
       " -1,\n",
       " -1,\n",
       " -1,\n",
       " -1,\n",
       " -1,\n",
       " -1,\n",
       " -1,\n",
       " -1,\n",
       " -1,\n",
       " -1,\n",
       " -1,\n",
       " -1,\n",
       " -1,\n",
       " -1,\n",
       " -1,\n",
       " -1,\n",
       " -1,\n",
       " -1,\n",
       " -1,\n",
       " -1,\n",
       " -1,\n",
       " -1,\n",
       " -1,\n",
       " -1,\n",
       " -1,\n",
       " -1,\n",
       " -1,\n",
       " -1,\n",
       " -1,\n",
       " -1,\n",
       " -1,\n",
       " -1,\n",
       " -1,\n",
       " -1,\n",
       " -1,\n",
       " -1,\n",
       " -1,\n",
       " -1,\n",
       " -1,\n",
       " -1,\n",
       " -1,\n",
       " -1,\n",
       " -1,\n",
       " -1,\n",
       " -1,\n",
       " -1,\n",
       " -1,\n",
       " -1,\n",
       " -1,\n",
       " -1,\n",
       " -1,\n",
       " -1,\n",
       " -1,\n",
       " -1,\n",
       " -1,\n",
       " -1,\n",
       " -1,\n",
       " -1,\n",
       " -1,\n",
       " -1,\n",
       " -1,\n",
       " -1,\n",
       " -1,\n",
       " -1,\n",
       " -1,\n",
       " -1,\n",
       " -1,\n",
       " -1,\n",
       " -1,\n",
       " -1,\n",
       " -1,\n",
       " -1,\n",
       " -1,\n",
       " -1,\n",
       " -1,\n",
       " -1,\n",
       " -1,\n",
       " -1,\n",
       " -1,\n",
       " -1,\n",
       " -1,\n",
       " -1,\n",
       " -1,\n",
       " -1,\n",
       " -1,\n",
       " -1,\n",
       " -1,\n",
       " -1,\n",
       " -1,\n",
       " -1,\n",
       " -1,\n",
       " -1,\n",
       " -1,\n",
       " -1,\n",
       " -1,\n",
       " -1,\n",
       " -1,\n",
       " -1,\n",
       " -1,\n",
       " -1,\n",
       " -1,\n",
       " -1,\n",
       " -1,\n",
       " -1,\n",
       " -1,\n",
       " -1,\n",
       " -1,\n",
       " -1,\n",
       " -1,\n",
       " -1,\n",
       " -1,\n",
       " -1,\n",
       " -1,\n",
       " -1,\n",
       " -1,\n",
       " -1,\n",
       " -1,\n",
       " -1,\n",
       " -1,\n",
       " -1,\n",
       " -1,\n",
       " -1,\n",
       " -1,\n",
       " -1,\n",
       " -1,\n",
       " -1,\n",
       " -1,\n",
       " -1,\n",
       " -1,\n",
       " -1,\n",
       " -1,\n",
       " -1,\n",
       " -1,\n",
       " -1,\n",
       " -1,\n",
       " -1,\n",
       " -1,\n",
       " -1,\n",
       " -1,\n",
       " -1,\n",
       " -1,\n",
       " -1,\n",
       " -1,\n",
       " -1,\n",
       " -1,\n",
       " -1,\n",
       " -1,\n",
       " -1,\n",
       " -1,\n",
       " -1,\n",
       " -1,\n",
       " -1,\n",
       " -1,\n",
       " -1,\n",
       " -1,\n",
       " -1,\n",
       " -1,\n",
       " -1,\n",
       " -1,\n",
       " -1,\n",
       " -1,\n",
       " -1,\n",
       " -1,\n",
       " -1,\n",
       " -1,\n",
       " -1,\n",
       " -1,\n",
       " -1,\n",
       " -1,\n",
       " -1,\n",
       " -1,\n",
       " -1,\n",
       " -1,\n",
       " -1,\n",
       " -1,\n",
       " -1,\n",
       " -1,\n",
       " -1,\n",
       " -1,\n",
       " -1,\n",
       " -1,\n",
       " -1,\n",
       " -1,\n",
       " -1,\n",
       " -1,\n",
       " -1,\n",
       " -1,\n",
       " -1,\n",
       " -1,\n",
       " -1,\n",
       " -1,\n",
       " -1,\n",
       " -1,\n",
       " -1,\n",
       " -1,\n",
       " -1,\n",
       " -1,\n",
       " -1,\n",
       " -1,\n",
       " -1,\n",
       " -1,\n",
       " -1,\n",
       " -1,\n",
       " -1,\n",
       " -1,\n",
       " -1,\n",
       " -1,\n",
       " -1,\n",
       " -1,\n",
       " -1,\n",
       " -1,\n",
       " -1,\n",
       " -1,\n",
       " -1,\n",
       " -1,\n",
       " -1,\n",
       " -1,\n",
       " -1,\n",
       " -1,\n",
       " -1,\n",
       " -1,\n",
       " -1,\n",
       " -1,\n",
       " -1,\n",
       " -1,\n",
       " -1,\n",
       " -1,\n",
       " -1,\n",
       " -1,\n",
       " -1,\n",
       " -1,\n",
       " -1,\n",
       " -1,\n",
       " -1,\n",
       " -1,\n",
       " -1,\n",
       " -1,\n",
       " -1,\n",
       " -1,\n",
       " -1,\n",
       " -1,\n",
       " -1,\n",
       " -1,\n",
       " -1,\n",
       " -1,\n",
       " -1,\n",
       " -1,\n",
       " -1,\n",
       " -1,\n",
       " -1,\n",
       " -1,\n",
       " -1,\n",
       " -1,\n",
       " -1,\n",
       " -1,\n",
       " -1,\n",
       " -1,\n",
       " -1,\n",
       " -1,\n",
       " -1,\n",
       " -1,\n",
       " -1,\n",
       " -1,\n",
       " -1,\n",
       " -1,\n",
       " -1,\n",
       " -1,\n",
       " -1,\n",
       " -1,\n",
       " -1,\n",
       " -1,\n",
       " -1,\n",
       " -1,\n",
       " -1,\n",
       " -1,\n",
       " -1,\n",
       " -1,\n",
       " -1,\n",
       " -1,\n",
       " -1,\n",
       " -1,\n",
       " -1,\n",
       " -1,\n",
       " -1,\n",
       " -1,\n",
       " -1,\n",
       " -1,\n",
       " -1,\n",
       " -1,\n",
       " -1,\n",
       " -1,\n",
       " -1,\n",
       " -1,\n",
       " -1,\n",
       " -1,\n",
       " -1,\n",
       " -1,\n",
       " -1,\n",
       " -1,\n",
       " -1,\n",
       " -1,\n",
       " -1,\n",
       " -1,\n",
       " -1,\n",
       " -1,\n",
       " -1,\n",
       " -1,\n",
       " -1,\n",
       " -1,\n",
       " -1,\n",
       " -1,\n",
       " -1,\n",
       " -1,\n",
       " -1,\n",
       " -1,\n",
       " -1,\n",
       " -1,\n",
       " -1,\n",
       " -1,\n",
       " -1,\n",
       " -1,\n",
       " -1,\n",
       " -1,\n",
       " -1,\n",
       " -1,\n",
       " -1,\n",
       " -1,\n",
       " -1,\n",
       " -1,\n",
       " -1,\n",
       " -1,\n",
       " -1,\n",
       " -1,\n",
       " -1,\n",
       " -1,\n",
       " -1,\n",
       " -1,\n",
       " -1,\n",
       " -1,\n",
       " -1,\n",
       " -1,\n",
       " -1,\n",
       " -1,\n",
       " -1,\n",
       " -1,\n",
       " -1,\n",
       " -1,\n",
       " -1,\n",
       " -1,\n",
       " -1,\n",
       " -1,\n",
       " -1,\n",
       " -1,\n",
       " -1,\n",
       " -1,\n",
       " -1,\n",
       " -1,\n",
       " -1,\n",
       " -1,\n",
       " -1,\n",
       " -1,\n",
       " -1,\n",
       " -1,\n",
       " -1,\n",
       " -1,\n",
       " -1,\n",
       " -1,\n",
       " -1,\n",
       " -1,\n",
       " -1,\n",
       " -1,\n",
       " -1,\n",
       " -1,\n",
       " -1,\n",
       " -1,\n",
       " -1,\n",
       " -1,\n",
       " -1,\n",
       " -1,\n",
       " -1,\n",
       " -1,\n",
       " -1,\n",
       " -1,\n",
       " -1,\n",
       " -1,\n",
       " -1,\n",
       " -1,\n",
       " -1,\n",
       " -1,\n",
       " -1,\n",
       " -1,\n",
       " -1,\n",
       " -1,\n",
       " -1,\n",
       " -1,\n",
       " -1,\n",
       " -1,\n",
       " -1,\n",
       " -1,\n",
       " -1,\n",
       " -1,\n",
       " -1,\n",
       " -1,\n",
       " -1,\n",
       " -1,\n",
       " -1,\n",
       " -1,\n",
       " -1,\n",
       " -1,\n",
       " -1,\n",
       " -1,\n",
       " -1,\n",
       " -1,\n",
       " -1,\n",
       " -1,\n",
       " -1,\n",
       " -1,\n",
       " -1,\n",
       " -1,\n",
       " -1,\n",
       " -1,\n",
       " -1,\n",
       " -1,\n",
       " -1,\n",
       " -1,\n",
       " -1,\n",
       " -1,\n",
       " -1,\n",
       " -1,\n",
       " -1,\n",
       " -1,\n",
       " -1,\n",
       " -1,\n",
       " -1,\n",
       " -1,\n",
       " -1,\n",
       " -1,\n",
       " -1,\n",
       " -1,\n",
       " -1,\n",
       " -1,\n",
       " -1,\n",
       " -1,\n",
       " -1,\n",
       " -1,\n",
       " -1,\n",
       " -1,\n",
       " -1,\n",
       " -1,\n",
       " -1,\n",
       " -1,\n",
       " -1,\n",
       " -1,\n",
       " -1,\n",
       " -1,\n",
       " -1,\n",
       " -1,\n",
       " -1,\n",
       " -1,\n",
       " -1,\n",
       " -1,\n",
       " -1,\n",
       " -1,\n",
       " -1,\n",
       " -1,\n",
       " -1,\n",
       " -1,\n",
       " -1,\n",
       " -1,\n",
       " -1,\n",
       " -1,\n",
       " -1,\n",
       " -1,\n",
       " -1,\n",
       " -1,\n",
       " -1,\n",
       " -1,\n",
       " -1,\n",
       " -1,\n",
       " -1,\n",
       " -1,\n",
       " -1,\n",
       " -1,\n",
       " -1,\n",
       " -1,\n",
       " -1,\n",
       " -1,\n",
       " -1,\n",
       " -1,\n",
       " -1,\n",
       " -1,\n",
       " -1,\n",
       " -1,\n",
       " -1,\n",
       " -1,\n",
       " -1,\n",
       " -1,\n",
       " -1,\n",
       " -1,\n",
       " -1,\n",
       " -1,\n",
       " -1,\n",
       " -1,\n",
       " -1,\n",
       " -1,\n",
       " -1,\n",
       " -1,\n",
       " ...]"
      ]
     },
     "execution_count": 128,
     "metadata": {},
     "output_type": "execute_result"
    }
   ],
   "source": [
    "listPosVals = [1]*len(cleanPos)\n",
    "listNegVals = [-1]*len(cleanNeg)\n",
    "listNegVals"
   ]
  },
  {
   "cell_type": "code",
   "execution_count": 129,
   "metadata": {
    "collapsed": false
   },
   "outputs": [],
   "source": [
    "\n",
    "posDict= {}\n",
    "for k,v in zip(cleanPos, listPosVals):\n",
    "    posDict.setdefault(k, []).append(v)\n"
   ]
  },
  {
   "cell_type": "code",
   "execution_count": 130,
   "metadata": {
    "collapsed": false
   },
   "outputs": [],
   "source": [
    "#posDict"
   ]
  },
  {
   "cell_type": "code",
   "execution_count": 132,
   "metadata": {
    "collapsed": false
   },
   "outputs": [
    {
     "data": {
      "text/plain": [
       "{'the 70yearold godard has become  to judge from in praise of love  the sort of bitter old crank who sits behind his light meter and harangues the supposed injustices of the artistic worldatlarge without doing all that much to correct them  ': [-1],\n",
       " 'this is a great subject for a movie  but hollywood has squandered the opportunity  using it as a prop for warmedover melodrama and the kind of choreographed mayhem that director john woo has built his career on  ': [-1],\n",
       " 'the story itself is uninteresting  and the songs are painfully undistinguished  they might be giants so to be one of us may be the most tuneless tune ever composed  ': [-1],\n",
       " 'i have to admit that i am baffled by jason x  ': [-1],\n",
       " 'all analyze that proves is that there is really only one movies worth of decent gags to be gleaned from the premise  ': [-1],\n",
       " '…the maudlin way its story unfolds suggests a director fighting against the urge to sensationalize his material  ': [-1],\n",
       " 'those who managed to avoid the deconstructionist theorizing of french philosopher jacques derrida in college can now take an 85minute brushup course with the documentary derrida  or  you can do something fun tonight  ': [-1],\n",
       " 'unfortunately  its also not very good  especially compared with the television series that inspired the movie  ': [-1],\n",
       " 'the following things are not at all entertaining  the bad sound  the lack of climax and  worst of all  watching seinfeld  who is also one of the films producers  do everything he can to look like a good guy  ': [-1],\n",
       " 'the most remarkable  and frustrating  thing about world traveler  which opens today in manhattan  is that its protagonist  after being an object of intense scrutiny for 104 minutes  remains a complete blank  ': [-1],\n",
       " 'a static and sugary little halfhour  afterschool special about interfaith understanding  stretched out to 90 minutes  ': [-1],\n",
       " 'in its chicken heart  crush goes to absurd lengths to duck the very issues it raises  ': [-1],\n",
       " 'this dreadfully earnest inversion of the concubine love triangle eschews the previous films historical panorama and roiling pathos for bugeyed mugging and gayniche condescension  ': [-1],\n",
       " 'for all its shootouts  fistfights  and car chases  this movie is a phlegmatic bore  so tedious it makes the silly spy vs  spy film the sum of all fears  starring ben affleck  seem downright hitchcockian  ': [-1],\n",
       " 'formula 51 is so trite that even yus highenergy action stylings cant break through the stupor  ': [-1],\n",
       " 'so much about the film is loopy and ludicrous    that it could have been a hoot in a badmovie way if the laborious pacing and endless exposition had been tightened  ': [-1],\n",
       " 'this rather unfocused  alloverthemap movie would be a lot better if it pared down its plots and characters to a few rather than dozens    or if it were subtler    or if it had a sense of humor  ': [-1],\n",
       " 'the setting turns out to be more interesting than any of the character dramas  which never reach satisfying conclusions  ': [-1],\n",
       " 'hypnotically dull  relentlessly downbeat  laughably predictable wail pitched to the cadence of a depressed fifteenyearolds suicidal poetry  ': [-1],\n",
       " 'nothing more or less than an outright bodiceripper  it should have ditched the artsy pretensions and revelled in the entertaining shallows  ': [-1],\n",
       " 'its basically an overlong episode of tales from the crypt  ': [-1],\n",
       " 'its a fanboy what if   brought to life on the big screen  ': [-1],\n",
       " 'this is so bad  ': [-1],\n",
       " 'makes the same mistake as the music industry it criticizes  becoming so slick and watereddown it almost loses what made you love it in the first place  ': [-1],\n",
       " '    a confusing drudgery  ': [-1],\n",
       " 'long time dead  not nearly long enough  ': [-1],\n",
       " 'lazy filmmaking  with the director taking a handsoff approach when he should have shaped the story to show us why its compelling  ': [-1],\n",
       " 'any movie this boring should be required to have ushers in the theater that hand you a cup of coffee every few minutes  like a marathon runner trying to finish a race  you need a constant influx of liquid just to get through it  ': [-1],\n",
       " 'once one experiences mr  hanekes own sadistic tendencies toward his audience  one is left with a sour taste in ones mouth  and little else  ': [-1],\n",
       " 'one of the most unpleasant things the studio has ever produced  ': [-1],\n",
       " 'an empty exercise  a florid but ultimately vapid crime melodrama with lots of surface flash but little emotional resonance  ': [-1],\n",
       " 'the movie is undone by a filmmaking methodology thats just experimental enough to alienate the mainstream audience while ringing cliched to hardened indieheads  ': [-1],\n",
       " 'a sleek advert for youthful anomie that never quite equals the sum of its pretensions  ': [-1],\n",
       " 'this is just lazy writing  even kids deserve better  ': [-1],\n",
       " 'toward the end sum of all fears morphs into a mundane 70s disaster flick  ': [-1],\n",
       " 'it makes me feel weird  thinking about all the bad things in the world  like puppies with broken legs  and butterflies that die  and movies starring pop queens': [-1],\n",
       " 'the only entertainment youll derive from this choppy and sloppy affair will be from unintentional giggles – several of them  ': [-1],\n",
       " 'suffocated by its fussy script and uptight characters  this musty adaptation is all the more annoying since its been packaged and sold back to us by hollywood  ': [-1],\n",
       " 'it concentrates far too much on the awkward interplay and utter lack of chemistry between chan and hewitt  ': [-1],\n",
       " 'despite impeccable acting    and a script that takes some rather unexpected  even  at times  preposterous  turns  love is just too  too precious in the end  ': [-1],\n",
       " 'i guess it just goes to show that if you give a filmmaker an unlimited amount of phony blood  nothing good can happen  ': [-1],\n",
       " 'if youve ever entertained the notion of doing what the title of this film implies  what sex with strangers actually shows may put you off the idea forever  ': [-1],\n",
       " 'i walked away not really know who  they  were  what  they  looked like  why  they  were here and what  they  wanted and quite honestly  i didnt care  ': [-1],\n",
       " 'the character is too forced and overwritten to be funny or believable much of the time  and clayburgh doesnt always improve the overthetop mix  ': [-1],\n",
       " 'a era do gelo diverte  mas não convence  É um passatempo descompromissado – e só  ': [-1],\n",
       " 'a movie more to be prescribed than recommended  as visually bland as a dentists waiting room  complete with soothing muzak and a cushion of predictable narrative rhythms  ': [-1],\n",
       " 'exists then as an occasionally insightful acting exercise  ': [-1],\n",
       " 'appropriately cynical social commentary aside  9 never quite ignites  ': [-1],\n",
       " 'resident evil is what comes from taking john carpenters ghosts of mars and eliminating the beheadings  in other words  about as bad a film youre likely to see all year  ': [-1],\n",
       " 'not even steven spielberg has dreamed up such blatant and sickening product placement in a movie  ': [-1],\n",
       " 'what you get with empire is a movie youve seen many times before  repackaged as new material because there is a latino in the lead  ': [-1],\n",
       " 'about amys cuteness  amys career success  shes a bestselling writer of selfhelp books who cant help herself   and amys neuroses when it comes to men  ': [-1],\n",
       " 'oedekerk mugs mercilessly  and the genuinely funny jokes are few and far between  ': [-1],\n",
       " 'a loud  ugly  irritating movie without any of its satirical salvos hitting a discernible target  ': [-1],\n",
       " 'the mantra behind the project seems to have been its just a kids flick   translation  we dont need to try very hard  ': [-1],\n",
       " 'its been 13 months and 295 preview screenings since i last walked out on a movie  but resident evil really earned my indignant  preemptive departure  ': [-1],\n",
       " 'bread  my sweet has so many flaws it would be easy for critics to shred it  it may even fall into the category of films you love to hate  i admit it  i hate to like it  ': [-1],\n",
       " 'so unremittingly awful that labeling it a dog probably constitutes cruelty to canines  ': [-1],\n",
       " 'an uneven mix of dark satire and childhood awakening  ': [-1],\n",
       " 'all i can say is fuhgeddaboutit  ': [-1],\n",
       " '    a fascinating curiosity piece  fascinating  that is  for about ten minutes  after that it becomes long and tedious like a classroom play in a college history course  ': [-1],\n",
       " 'every conceivable mistake a director could make in filming opera has been perpetrated here  ': [-1],\n",
       " 'in between the icy stunts  the actors spout hilarious dialogue about following your dream and just letting the mountain tell you what to do  ': [-1],\n",
       " 'exactly what it claims to be  a simple diversion for the kids  ': [-1],\n",
       " 'while this film has an a list cast and some strong supporting players  the tale  like its central figure  vivi  is just a little bit hard to love  ': [-1],\n",
       " 'much of the digitally altered footage appears jagged  as if filmed directly from a television monitor  while the extensive use of stock footage quickly becomes a tiresome cliché  ': [-1],\n",
       " 'pure of intention and passably diverting  his secret life is light  innocuous and unremarkable  ': [-1],\n",
       " 'an empty shell of an epic rather than the real deal  ': [-1],\n",
       " 'the best drug addition movies are usually depressing but rewarding  quitting  however  manages just to be depressing  as the lead actor phones in his autobiographical performance  ': [-1],\n",
       " 'the execution is so pedestrian that the most positive comment we can make is that rob schneider actually turns in a pretty convincing performance as a prissy teenage girl  ': [-1],\n",
       " 'possession is in the end an honorable  interesting failure  it falls far short of poetry  but its not bad prose  ': [-1],\n",
       " 'flounders due to the general sense that no two people working on the production had exactly the same thing in mind  ': [-1],\n",
       " 'though there are entertaining and audacious moments  the movies wildly careening tone and an extremely flat lead performance do little to salvage this filmmakers flailing reputation  ': [-1],\n",
       " 'lucas has in fact come closer than anyone could desire to the cheap  graceless  hackneyed scifi serials of the 30s and 40s  ': [-1],\n",
       " 'you    get a sense of good intentions derailed by a failure to seek and strike just the right tone  ': [-1],\n",
       " 'in his determination to lighten the heavy subject matter  silberling also  to a certain extent  trivializes the movie with too many nervous gags and pratfalls  ': [-1],\n",
       " 'a film that presents an interesting  even sexy premise then ruins itself with too many contrivances and goofy situations  ': [-1],\n",
       " 'viewers will need all the luck they can muster just figuring out whos who in this pretentious mess  ': [-1],\n",
       " 'unless bob crane is someone of particular interest to you  this films impressive performances and adept direction arent likely to leave a lasting impression  ': [-1],\n",
       " '    hokey art house pretension  ': [-1],\n",
       " 'the plot has a number of holes  and at times its simply baffling  ': [-1],\n",
       " 'the abiding impression  despite the mild hallucinogenic buzz  is of overwhelming waste  the acres of haute couture cant quite conceal that theres nothing resembling a spine here  ': [-1],\n",
       " 'forgettable  if goodhearted  movie  ': [-1],\n",
       " 'a tv episode inflated past its natural length  ': [-1],\n",
       " 'technically  the film is about as interesting as an insurance commercial  ': [-1],\n",
       " 'labute cant avoid a fatal mistake in the modern era  hes changed the male academic from a lowerclass brit to an american  a choice that upsets the novels exquisite balance and shreds the fabric of the film  ': [-1],\n",
       " 'the script is too mainstream and the psychology too textbook to intrigue  ': [-1],\n",
       " 'the rest of the plot is impossible to explain without blowing whatever tension there is  although its more comedy than suspense de palma creates  ': [-1],\n",
       " 'how do you spell cliché  ': [-1],\n",
       " 'shadyac  who belongs with the damned for perpetrating patch adams  trots out every ghost trick from the sixth sense to the mothman prophecies  ': [-1],\n",
       " 'diaz wears out her welcome in her most charmless performance': [-1],\n",
       " 'all of the filmmakers calculations cant rescue brown sugar from the curse of blandness  ': [-1],\n",
       " 'theres more scatological action in 8 crazy nights than a proctologist is apt to encounter in an entire career  ': [-1],\n",
       " 'a yawnprovoking little farm melodrama  ': [-1],\n",
       " 'an overwrought taiwanese soaper about three people and their mixedup relationship  ': [-1],\n",
       " 'there are many things that solid acting can do for a movie  but crafting something promising from a mediocre screenplay is not one of them  ': [-1],\n",
       " 'dismally dull scifi comedy  ': [-1],\n",
       " 'although trying to balance selfreferential humor and a normal ol slasher plot seemed like a decent endeavor  the result doesnt fully satisfy either the diehard jason fans or those who can take a good joke  ': [-1],\n",
       " 'the central character isnt complex enough to hold our interest  ': [-1],\n",
       " 'a thriller without a lot of thrills  ': [-1],\n",
       " 'the sort of picture in which  whenever one of the characters has some serious soul searching to do  they go to a pictureperfect beach during sunset  ': [-1],\n",
       " 'we started to wonder if … some unpaid intern had just typed chris rock   anthony hopkins and terrorists into some univaclike script machine  ': [-1],\n",
       " 'this movie  a certain scene in particular  brought me uncomfortably close to losing my lunch  ': [-1],\n",
       " 'director chris eyre is going through the paces again with his usual high melodramatic style of filmmaking  ': [-1],\n",
       " 'a waterlogged version of fatal attraction for the teenybopper set    a sad  soggy potboiler that wastes the talents of its attractive young leads  ': [-1],\n",
       " 'youll trudge out of the theater feeling as though you rode the zipper after eating a corn dog and an extralarge cotton candy  ': [-1],\n",
       " 'anyone who can count to five  the films target market   can see where this dumbeddown concoction is going  ': [-1],\n",
       " 'a cumbersome and clicheridden movie greased with every emotional device known to man  ': [-1],\n",
       " 'the movie is loaded with good intentions  but in his zeal to squeeze the action and our emotions into the alltoofamiliar dramatic arc of the holocaust escape story  minac drains his movie of all individuality  ': [-1],\n",
       " 'looks like a high school film project completed the day before it was due  ': [-1],\n",
       " 'a dreadful liveaction movie  ': [-1],\n",
       " 'the vampire thriller blade ii starts off as a wild hoot and then sucks the blood out of its fun – toward the end  you can feel your veins cringing from the workout  ': [-1],\n",
       " 'being unique doesnt necessarily equate to being good  no matter how admirably the filmmakers have gone for broke  ': [-1],\n",
       " 'the screenplay  cowritten by director imogen kimmel  lacks the wit necessary to fully exploit the comic elements of the premise  making the proceedings more bizarre than actually amusing  ': [-1],\n",
       " 'late marriages stiffness is unlikely to demonstrate the emotional clout to sweep u  s  viewers off their feet  ': [-1],\n",
       " 'the movie makes absolutely no sense  its underlying mythology is a hodgepodge of inconsistencies that pose the question  since when did dumb entertainment have to be this dumb  ': [-1],\n",
       " 'lacks depth  ': [-1],\n",
       " 'a hideous  confusing spectacle  one that may well put the nail in the coffin of any future rice adaptations  ': [-1],\n",
       " 'get out your pooperscoopers  ': [-1],\n",
       " 'fincher takes no apparent joy in making movies  and he gives none to the audience  ': [-1],\n",
       " 'thekids will probably stay amused at the kaleidoscope of big  colorful characters  mom and dad can catch some quality naptime along the way  ': [-1],\n",
       " 'the film doesnt really care about the thousands of americans who die hideously  it cares about how ryan meets his future wife and makes his start at the cia  ': [-1],\n",
       " '    turns so unforgivably trite in its last 10 minutes that anyone without a fortified sweet tooth will likely go into sugar shock  ': [-1],\n",
       " 'sadly  hewitts forte is leaning forward while wearing lowcut gowns  not making snappy comebacks  ': [-1],\n",
       " 'rymer doesnt trust laughs  and doesnt conjure proper respect for followers of the whole deadundead genre  who deserve more from a vampire pic than a few shrieky special effects  ': [-1],\n",
       " 'the film desperately sinks further and further into comedy futility  ': [-1],\n",
       " 'smothered by its own solemnity  ': [-1],\n",
       " 'there is an almost poignant dimension to the way that every major stunt seagals character    performs is shot from behind  as if it could fool us into thinking that were not watching a double  ': [-1],\n",
       " 'davis wants to cause his audience an epiphany  yet he refuses to give us real situations and characters  ': [-1],\n",
       " 'the most antihuman big studio picture since 3000 miles to graceland  ': [-1],\n",
       " 'further sad evidence that tom tykwer  director of the resonant and sensespinning run lola run  has turned out to be a onetrick pony  a maker of softheaded metaphysical claptrap  ': [-1],\n",
       " 'its refreshing that someone understands the need for the bad boy  diesel  with his brawny frame and cool  composed delivery  fits the bill perfectly  ': [-1],\n",
       " 'both stars manage to be funny  but  like the recent i spy  the star chemistry begs the question of whether random gags add up to a movie  ': [-1],\n",
       " 'though moonlight mile is replete with acclaimed actors and actresses and tackles a subject thats potentially moving  the movie is too predictable and too selfconscious to reach a level of high drama  ': [-1],\n",
       " 'yet another weepy southern boreathon  ': [-1],\n",
       " 'this is a throwaway  junkfood movie whose rap soundtrack was better tended to than the film itself  ': [-1],\n",
       " 'my reaction in a word  disappointment  his last movie was poetically romantic and full of indelible images  but his latest has nothing going for it  ': [-1],\n",
       " 'the most repugnant adaptation of a classic text since roland joffé and demi moores the scarlet letter  ': [-1],\n",
       " 'deserves high marks for political courage but barely gets by on its artistic merits  ': [-1],\n",
       " 'the film never finds its tone and several scenes run too long  ': [-1],\n",
       " 'sometimes smart but more often sophomoric  ': [-1],\n",
       " 'the problem isnt that the movie hits so close to home so much as that it hits close to home while engaging in such silliness as that snakedownthethroat business and the inevitable shot of schwarzenegger outrunning a fireball  ': [-1],\n",
       " 'its all very cute  though not terribly funny if youre more than six years old  ': [-1],\n",
       " 'filmmakers have to dig deep to sink this low  fortunately for all involved  this movie is likely to disappear as quickly as an ice cube thrown into a pot of boiling water  ': [-1],\n",
       " 'just a bloody mess  ': [-1],\n",
       " 'forced  familiar and thoroughly condescending  ': [-1],\n",
       " 'while american adobo has its heart  and its palate  in the right place  its brain is a little scattered  ditsy  even  ': [-1],\n",
       " 'skins has a right to yawp  and we have a right to our grains of salt  ': [-1],\n",
       " 'the gazillionth airhead movie about a wife in distress who resorts to desperate measures  ': [-1],\n",
       " 'made me feel uneasy  even queasy  because solondzs cool compassion is on the border of bemused contempt  ': [-1],\n",
       " 'by the time you reach the finale  youre likely wondering why youve been watching all this strutting and posturing  ': [-1],\n",
       " 'new best friend shouldnt have gone straight to video  it should have gone straight to a mystery science theater 3000 video  ': [-1],\n",
       " 'like being trapped inside a huge video game  where exciting  inane images keep popping past your head and the same illogical things keep happening over and over again  ': [-1],\n",
       " 'a pintsized goodfellas designed to appeal to the younger set  its not a very good movie in any objective sense  but it does mostly hold ones interest  ': [-1],\n",
       " 'deadly dull  pointless meditation on losers in a gonetoseed hotel  ': [-1],\n",
       " 'ive heard that the fans of the first men in black have come away hating the second one  i wonder why  they felt like the same movie to me  ': [-1],\n",
       " 'the film contains no good jokes  no good scenes  barely a moment when carveys saturday night livehoned mimicry rises above the level of embarrassment  ': [-1],\n",
       " 'has all the scenic appeal of a cesspool  ': [-1],\n",
       " 'as pure overthetop trash  any john waters movie has it beat by a country mile  ': [-1],\n",
       " 'instead of building to a laugh riot we are left with a handful of disparate funny moments of no real consequence  ': [-1],\n",
       " 'the first mistake  i suspect  is casting shatner as a legendary professor and kunis as a brilliant college studentwheres pauly shore as the rocket scientist  ': [-1],\n",
       " 'most of the action setups are incoherent  ': [-1],\n",
       " 'less a study in madness or love than a study in schoolgirl obsession  ': [-1],\n",
       " 'the entire movie is about a boring  sad man being boring and sad  ': [-1],\n",
       " 'insufferably naive  ': [-1],\n",
       " 'this followup seems so similar to the 1953 disney classic that it makes one long for a geriatric peter  ': [-1],\n",
       " 'the lowbudget full frontal was one of the years murkiest  intentionally obscure and selfindulgent pictures  and solaris is its bigbudget brother  ': [-1],\n",
       " 'swimfan  like fatal attraction  eventually goes overboard with a loony melodramatic denouement in which a high school swimming pool substitutes for a bathtub  ': [-1],\n",
       " 'meticulously mounted  exasperatingly wellbehaved film  which ticks off kahlos lifetime milestones with the dutiful precision of a tax accountant  ': [-1],\n",
       " 'the movie keeps coming back to the achingly unfunny phonce and his several silly subplots  ': [-1],\n",
       " '…a big  baggy  sprawling carnival of a movie  stretching out before us with little rhyme or reason  ': [-1],\n",
       " 'a hamfisted romantic comedy that makes our girl the hapless facilitator of an extended cheap shot across the masondixon line  ': [-1],\n",
       " 'even if you feel like youve seen this movie a thousand times before  it is kind of enjoyable thanks mainly to belushis easygoing likableness  ': [-1],\n",
       " 'this sade is hardly a perverse  dangerous libertine and agitator  which would have made for better drama  hes just a sad aristocrat in tattered finery  and the film seems as deflated as he does  ': [-1],\n",
       " 'blood work is laughable in the solemnity with which it tries to pump life into overworked elements from eastwoods dirty harry period  ': [-1],\n",
       " 'the best that can be said about the work here of scottish director ritchie    is that he obviously doesnt have his heart in it  ': [-1],\n",
       " 'the movie is genial but never inspired  and little about it will stay with you  ': [-1],\n",
       " '    a movie that  quite simply  shouldnt have been made  ': [-1],\n",
       " 'a movie that hovers somewhere between an acute character study and a trite power struggle  ': [-1],\n",
       " 'it does nothing new with the old story  except to show fisticuffs in this sort of stopgo slow motion that makes the gang rumbles look like theyre being streamed over a 28k modem  ': [-1],\n",
       " 'boll uses a lot of quick cutting and blurry stepprinting to goose things up  but dopey dialogue and sometimes inadequate performances kill the effect  ': [-1],\n",
       " 'with minimal imagination  you could restage the whole thing in your bathtub  ': [-1],\n",
       " 'as his circle of friends keeps getting smaller one of the characters in long time dead says im telling you  this is f    ed  maybe he was reading the minds of the audience  ': [-1],\n",
       " 'god help us  but capra and cooper are rolling over in their graves  ': [-1],\n",
       " 'a gorgeous  somnolent show that is splendidly mummified and thoroughly unsurprising  ': [-1],\n",
       " 'both the crime story and the love story are unusual  but they dont fit well together and neither is well told  ': [-1],\n",
       " 'if there was any doubt that peter ofallon didnt have an original bone in his body  a rumor of angels should dispel it  ': [-1],\n",
       " 'not only are the films sopranos gags incredibly dated and unfunny  they also demonstrate how desperate the makers of this were doingitfor thecash sequel were  ': [-1],\n",
       " 'slap me  i saw this movie  ': [-1],\n",
       " 'every visual joke is milked  every setup obvious and lengthy  every punchline predictable  theres no energy  ': [-1],\n",
       " 'its difficult to imagine the process that produced such a script  but heres guessing that spray cheese and underarm noises played a crucial role  ': [-1],\n",
       " 'forget the misleading title  whats with the unexplained baboon cameo  ': [-1],\n",
       " 'i weep for the future when a good portion of the respected critical community in this country consider blue crush to be an intelligent film about young women  ': [-1],\n",
       " 'an excruciating demonstration of the unsalvageability of a movie saddled with an amateurish screenplay  ': [-1],\n",
       " 'a respectable but uninspired thriller thats intelligent and considered in its details  but ultimately weak in its impact  ': [-1],\n",
       " 'excruciatingly unfunny and pitifully unromantic  ': [-1],\n",
       " 'the holes in this film remain agape  holes punched through by an inconsistent  meandering  and sometimes dry plot  ': [-1],\n",
       " 'it all unfolds predictably  and the adventures that happen along the way seem repetitive and designed to fill time  providing no real sense of suspense  ': [-1],\n",
       " 'instead of panoramic sweep  kapur gives us episodic choppiness  undermining the storys emotional thrust  ': [-1],\n",
       " 'in the end  the weight of water comes to resemble the kind of softcore twaddle youd expect to see on showtimes red shoe diaries  ': [-1],\n",
       " 'tries so hard to be quirky and funny that the strain is all too evident  ': [-1],\n",
       " 'due to some script weaknesses and the casting of the directors brother  the film trails off into inconsequentiality  ': [-1],\n",
       " 'feels more like a rejected xfiles episode than a credible account of a puzzling reallife happening  ': [-1],\n",
       " 'its a movie forged in the fires of chick flick hell  ': [-1],\n",
       " 'it will probably prove interesting to ram dass fans  but to others it may feel like a parody of the mellow  peaceandlove side of the 60s counterculture  ': [-1],\n",
       " 'the movies biggest shocks come from seeing former nymphette juliette lewis playing a saltoftheearth mommy named minnie and watching slim travel incognito in a ridiculous wig no respectable halloween costume shop would ever try to sell  ': [-1],\n",
       " 'crummy': [-1],\n",
       " 'when it comes to the battle of hollywood vs  woo  it looks like woos a p  o  w  ': [-1],\n",
       " 'its the kind of underinspired  overblown enterprise that gives hollywood sequels a bad name  ': [-1],\n",
       " 'all too familiar    basically the sort of cautionary tale that was old when angels with dirty faces appeared in 1938  ': [-1],\n",
       " 'unfortunately  carveys rubberface routine is no match for the insipid script he has crafted with harris goldberg  ': [-1],\n",
       " 'maybe its the star power of the cast or the redundant messages  but something aboul  full frontal  seems  well  contrived  ': [-1],\n",
       " 'a boring  formulaic mix of serial killers and stalknslash  ': [-1],\n",
       " 'an ultralowbudget indie debut that smacks more of good intentions than talent  ': [-1],\n",
       " 'the movie is a little tired  maybe the original inspiration has run its course  ': [-1],\n",
       " 'as crimes go  writerdirector michael kalesnikos how to kill your neighbors dog is slight but unendurable  ': [-1],\n",
       " 'none of this is very original  and it isnt particularly funny  ': [-1],\n",
       " 'suffers from a lack of clarity and audacity that a subject as monstrous and pathetic as dahmer demands  ': [-1],\n",
       " 'nemesis suffers from a paunchy midsection  several plodding action sequences and a wickedly undramatic central theme  ': [-1],\n",
       " 'takes a clunky tvmovie approach to detailing a chapter in the life of the celebrated irish playwright  poet and drinker  ': [-1],\n",
       " 'affleck merely creates an outline for a role he still needs to grow into  a role that ford effortlessly filled with authority  ': [-1],\n",
       " 'return to never land is much more p  c  than the original version  no more racist portraits of indians  for instance   but the excitement is missing  ': [-1],\n",
       " 'has something to say    but it is a statement and issue worthy of a much more thoughtfulness and insight than a melodramatic and wholly predictable thriller  ': [-1],\n",
       " 'tobacks fondness for fancy splitscreen  stuttering editing and pompous references to wittgenstein and kirkegaard    blends uneasily with the titillating material  ': [-1],\n",
       " 'the movie would seem less of a trifle if ms  sugarman followed through on her defiance of the saccharine  ': [-1],\n",
       " 'high crimes carries almost no organic intrigue as a government marinelegal mystery  and thats because the movie serves up all of that stuff  nearly subliminally  as the oldhat province of male intrigue  ': [-1],\n",
       " 'im just too bored to care  ': [-1],\n",
       " 'this directors cut  which adds 51 minutes  takes a great film and turns it into a mundane soap opera  ': [-1],\n",
       " 'exactly what youd expect from a guy named kaos  ': [-1],\n",
       " 'while the film is competent  its also uninspired  lacking the real talent and wit to elevate it beyond its formula to the level of classic romantic comedy to which it aspires  ': [-1],\n",
       " 'starts off witty and sophisticated and you want to love it  but filmmaker yvan attal quickly writes himself into a corner  ': [-1],\n",
       " 'the cumulative effect of the movie is repulsive and depressing  ': [-1],\n",
       " 'once she lets her love depraved leads meet  denis story becomes a hopeless  unsatisfying muddle': [-1],\n",
       " 'the code talkers deserved better than a hollow tribute  ': [-1],\n",
       " 'as a hybrid teen thriller and murder mystery  murder by numbers fits the profile too closely  ': [-1],\n",
       " 'had i suffered and bled on the hard ground of ia drang  id want something a bit more complex than we were soldiers to be remembered by  ': [-1],\n",
       " 'showtime is one of the hapless victims of the arrogant  if we put together a wry white man and a chatty black man and give them guns  the movie will be funny  syndrome  ': [-1],\n",
       " 'while some of the camera work is interesting  the films midtolow budget is betrayed by the surprisingly shoddy makeup work  ': [-1],\n",
       " 'buries an interesting storyline about morality and the choices we make underneath such a mountain of clichés and borrowed images that it might more accurately be titled mr  chips off the old block  ': [-1],\n",
       " 'the château is never quite able to overcome the cultural moat surrounding its ludicrous and contrived plot  ': [-1],\n",
       " 'the movies progression into rambling incoherence gives new meaning to the phrase fatal script error  ': [-1],\n",
       " 'it appears to have been made by people to whom the idea of narrative logic or cohesion is an entirely foreign concept  ': [-1],\n",
       " 'anemic chronicle of money grubbing new yorkers and their serial loveless hook ups  ': [-1],\n",
       " 'it believes its revealing some great human truths  when  in reality  its churning ground that has long passed the point of being fertile  ': [-1],\n",
       " 'if the idea of the white man arriving on foreign shores to show wary natives the true light is abhorrent to you  the simplistic heaven will quite likely be more like hell  ': [-1],\n",
       " 'a guilty pleasure at best  and not worth seeing unless you want to laugh at it  ': [-1],\n",
       " 'director roger michell does so many of the little things right that its difficult not to cuss him out severely for bungling the big stuff  ': [-1],\n",
       " 'an unsuccessful attempt at a movie of ideas  ': [-1],\n",
       " '  what john does is heroic  but we dont condone it   one of the films stars recently said  a tortuous comment that perfectly illustrates the pictures moral schizophrenia  ': [-1],\n",
       " 'opera on film is never satisfactory  the art demands live viewing  the innate theatrics that provide its thrills and extreme emotions lose their luster when flattened onscreen  ': [-1],\n",
       " 'the film ultimately offers nothing more than people in an urban jungle needing other people to survive    ': [-1],\n",
       " 'youre better off staying home and watching the xfiles  ': [-1],\n",
       " 'it would be hard to think of a recent movie that has worked this hard to achieve this little fun  ': [-1],\n",
       " 'a preposterous  prurient whodunit  ': [-1],\n",
       " 'in the telling of a story largely untold  bui chooses to produce something that is ultimately suspiciously familiar  ': [-1],\n",
       " 'bigelow offers some flashy twists and turns that occasionally fortify this turgid fable  but for the most part  the weight of water comes off as a twoway timeswitching myopic mystery that stalls in its lackluster gear of emotional blandness  ': [-1],\n",
       " 'nothing about the film  with the possible exception of elizabeth hurleys breasts  is authentic  ': [-1],\n",
       " 'the only way to tolerate this insipid  brutally clueless film might be with a large dose of painkillers  ': [-1],\n",
       " 'for all its violence  the movie is remarkably dull with only caine making much of an impression  ': [-1],\n",
       " 'master of disguise runs for only 71 minutes and feels like three hours  ': [-1],\n",
       " 'a distinctly minor effort that will be seen to better advantage on cable  especially considering its barely featurelength running time of one hour  ': [-1],\n",
       " 'the package in which this fascinating  and timely  content comes wrapped is disappointingly generic  ': [-1],\n",
       " 'whats really sad is to see two academy award winning actresses  and one academy award winning actor  succumb to appearing in this junk thats tv sitcom material at best  ': [-1],\n",
       " 'a movie that tries to fuse the two woods but winds up a bollyholly masala mess  ': [-1],\n",
       " 'the film has a few cute ideas and several modest chuckles but it isnt exactly kiddiefriendly… alas  santa is more hohum than hohoho and the snowman  who never gets to play that flute  has all the charm of a meltdown  ': [-1],\n",
       " 'full frontal  which opens today nationwide  could almost be classified as a movieindustry satire  but it lacks the generous inclusiveness that is the genres definitive  if disingenuous  feature  ': [-1],\n",
       " 'a morality tale whose thoughtprovoking potential is hampered by a madefortv look  rigid performances and an asinine twist that brazenly rips off the sixth sense  ': [-1],\n",
       " 'its difficult to conceive of anyone who has reached puberty actually finding the characters in slackers or their antics amusing  let alone funny  ': [-1],\n",
       " 'kids dont mind crappy movies as much as adults  provided theres lots of cute animals and clumsy people  snow dogs has both  ': [-1],\n",
       " 'writerdirector burr steers emphasizes the q in quirky  with mixed results  ': [-1],\n",
       " 'care deftly captures the wonder and menace of growing up  but he never really embraces the joy of fuhrmans destructive escapism or the graceinrebellion found by his characters  ': [-1],\n",
       " 'in my own very humble opinion  in praise of love lacks even the most fragmented charms i have found in almost all of his previous works  ': [-1],\n",
       " 'even the imaginative gore cant hide the musty scent of todd farmers screenplay  which is a simple retread of the 1979 alien  with a plucky heroine battling a monster loose in a spaceship  ': [-1],\n",
       " '    del toro maintains a dark mood that makes the film seem like something to endure instead of enjoy  ': [-1],\n",
       " 'really does feel like a short stretched out to feature length  ': [-1],\n",
       " 'the waterlogged script plumbs uncharted depths of stupidity  incoherence and subsophomoric sexual banter  ': [-1],\n",
       " 'even when crush departs from the 4w formula    it feels like a glossy rehash  ': [-1],\n",
       " 'utter mush    conceited pap  ': [-1],\n",
       " 'mediocre fable from burkina faso  ': [-1],\n",
       " 'the result is a gaudy bag of stale candy  something from a halloween that died  ': [-1],\n",
       " 'generic thriller junk  teens only  ': [-1],\n",
       " 'i didnt laugh at the ongoing efforts of cube  and his skinny buddy mike epps  to make like laurel and hardy n the hood  ': [-1],\n",
       " 'there is not an ounce of honesty in the entire production  ': [-1],\n",
       " 'the film is surprisingly welldirected by brett ratner  who keeps things moving well  at least until the problematic third act  ': [-1],\n",
       " 'with little visible talent and no energy  colin hanks is in bad need of major acting lessons and maybe a little coffee  ': [-1],\n",
       " 'a cockeyed shot all the way  ': [-1],\n",
       " 'being author wells greatgrandson  youd think filmmaker simon wells would have more reverence for the material  but this costly dud is a far cry from either the book or the beloved film  ': [-1],\n",
       " 'the transporter bombards the viewer with so many explosions and side snap kicks that it ends up being surprisingly dull  ': [-1],\n",
       " 'those 24andunders looking for their own caddyshack to adopt as a generational signpost may have to keep on looking  ': [-1],\n",
       " '    with the candylike taste of it fading faster than 25cent bubble gum  i realized this is a throwaway movie that wont stand the test of time  its a trifle  ': [-1],\n",
       " 'all the sensuality  all the eroticism of a good vampire tale has been  pardon the pun  sucked out and replaced by goth goofiness  ': [-1],\n",
       " 'i spied with my little eye    a mediocre collection of cookiecutter action scenes and occasionally inspired dialogue bits': [-1],\n",
       " 'snow dogs finds its humour in a black man getting humiliated by a pack of dogs who are smarter than him': [-1],\n",
       " 'weirdly  broomfield has compelling new material but he doesnt unveil it until the end  after endless scenes of him wheedling reluctant witnesses and pointing his camera through the smeared windshield of his rental car  ': [-1],\n",
       " 'shunji iwais all about lily chou chou is a beautifully shot  but ultimately flawed film about growing up in japan  ': [-1],\n",
       " 'just as the lousy tarantino imitations have subsided  here comes the first lousy guy ritchie imitation  ': [-1],\n",
       " 'amazingly dopey  ': [-1],\n",
       " 'the movie generates plot points with a degree of randomness usually achieved only by lottery drawing  ': [-1],\n",
       " 'the films implicit premise is that the faith of the tonga people is in every way inferior to that of john  ': [-1],\n",
       " 'will give many ministers and biblestudy groups hours of material to discuss  but mainstream audiences will find little of interest in this film  which is often preachy and poorly acted  ': [-1],\n",
       " 'its another stale  killbynumbers flick  complete with bladethin characters and terrible  punladen dialogue  ': [-1],\n",
       " 'es triste tener que decirles que lo único grato de la cinta es el cuerpo desnudo de la heather    ': [-1],\n",
       " 'for a story set at sea  ghost ship is pretty landbound  with its leaden acting  dull exposition and telegraphed surprises  ': [-1],\n",
       " 'yes  spirited away is a triumph of imagination  but its also a failure of storytelling  ': [-1],\n",
       " '    has virtually no script at all    ': [-1],\n",
       " 'the last 20 minutes are somewhat redeeming  but most of the movie is the same teenage american roadtrip drek weve seen before  only this time you have to read the fart jokes': [-1],\n",
       " 'sustains its dreamlike glide through a succession of cheesy coincidences and voluptuous cheap effects  not the least of which is rebecca romijnstamos  ': [-1],\n",
       " 'this franchise has not spawned a single good film  the crap continues  ': [-1],\n",
       " 'its sweet  harmless  dumb  occasionally funny and about as compelling as a fishing show  ': [-1],\n",
       " 'this little film is so slovenly done  so primitive in technique  that it cant really be called animation  ': [-1],\n",
       " 'if hill isnt quite his generations don siegel  or robert aldrich   its because theres no discernible feeling beneath the chest hair  its all bluster and cliché  ': [-1],\n",
       " 'on the right track to something thats creepy and effective    its just going to take more than a man in a bullwinkle costume to get there  ': [-1],\n",
       " 'theres no disguising this as one of the worst films of the summer  or for the year  for that matter  ': [-1],\n",
       " 'by the miserable standards to which the slasher genre has sunk     actually pretty good  of course  by more objective measurements its still quite bad  ': [-1],\n",
       " 'the town has kind of an authentic feel  but each one of these people stand out and everybody else is in the background and it just seems manufactured to me and artificial  ': [-1],\n",
       " 'a complete waste of time  ': [-1],\n",
       " 'a rehash of every gangster movie from the past decade  ': [-1],\n",
       " 'warmedover hash  ': [-1],\n",
       " 'naipaul fans may be disappointed  those who are not acquainted with the authors work  on the other hand  may fall fast asleep  ': [-1],\n",
       " 'the château would have been benefited from a sharper  cleaner script before it went in front of the camera  not to mention a sharper  cleaner camera lens  ': [-1],\n",
       " '    the pictures cleverness is ironically muted by the very people who are intended to make it shine  ': [-1],\n",
       " 'a nearly 212 hours  the film is way too indulgent  ': [-1],\n",
       " 'this strenuously unfunny showtime deserves the hook  ': [-1],\n",
       " 'the cast is so lowwattage that none of the characters comes off as big    and the setting remains indistinct  ': [-1],\n",
       " 'were left with a story that tries to grab us  only to keep letting go at all the wrong moments  ': [-1],\n",
       " 'instead of contriving a climactic heros death for the belovedmajor characterwhoshall remainnameless  why not invite some genuine spontaneity into the film by having the evil aliens laser guns actually hit something for once  ': [-1],\n",
       " 'sodden and glum  even in those moments where its supposed to feel funny and light  ': [-1],\n",
       " 'it has plenty of laughs  it just doesnt have much else    especially in a moral sense  ': [-1],\n",
       " 'despite its dry wit and compassion  the film suffers from a philosophical emptiness and maddeningly sedate pacing  ': [-1],\n",
       " 'becomes the last thing you would expect from a film with this title or indeed from any plympton film  boring  ': [-1],\n",
       " 'what the director can8217  t do is make either of val kilmer8217  s two personas interesting or worth caring about  ': [-1],\n",
       " 'i dont mind having my heartstrings pulled  but dont treat me like a fool  ': [-1],\n",
       " 'fessenden has nurtured his metaphors at the expense of his narrative  but he does display an original talent  ': [-1],\n",
       " 'oh come on  like you couldnt smell this turkey rotting from miles away  ': [-1],\n",
       " 'merchant hasnt directed this movie so much as produced it  like sausage  ': [-1],\n",
       " 'banal and predictable  ': [-1],\n",
       " 'despite terrific special effects and funnier gags  harry potter and the chamber of secrets finds a way to make j  k  rowlings marvelous series into a deadly bore  ': [-1],\n",
       " 'one of the more glaring signs of this movies servitude to its superstar is the way it skirts around any scenes that might have required genuine acting from ms  spears  ': [-1],\n",
       " 'none of this socalled satire has any sting to it  as if woody is afraid of biting the hand that has finally  to some extent  warmed up to him  ': [-1],\n",
       " 'not just unlikable  disturbing  disgusting  without any redeeming value whatsoever  ': [-1],\n",
       " 'the soupy end result has the odd distinction of being playful without being fun  too  ': [-1],\n",
       " 'plodding  poorly written  murky and weakly acted  the picture feels as if everyone making it lost their movie mojo  ': [-1],\n",
       " 'demme gets a lot of flavor and spice into his charade remake  but he cant disguise that hes spiffing up leftovers that arent so substantial or fresh  ': [-1],\n",
       " 'there isnt one moment in the film that surprises or delights  ': [-1],\n",
       " 'occasionally loud and offensive  but more often  it simply lulls you into a gentle waking coma  ': [-1],\n",
       " 'this is amusing for about three minutes  ': [-1],\n",
       " 'supposedly  pokemon cant be killed  but pokemon 4ever practically assures that the pocket monster movie franchise is nearly ready to keel over  ': [-1],\n",
       " 'what mightve been an exhilarating exploration of an odd love triangle becomes a sprawl of uncoordinated vectors  ': [-1],\n",
       " 'its probably not easy to make such a worthless film    ': [-1],\n",
       " 'releasing a film with the word dog in its title in january lends itself to easy jokes and insults  and snow dogs deserves every single one of them  ': [-1],\n",
       " 'veras technical prowess ends up selling his film short  he smoothes over hard truths even as he uncovers them  ': [-1],\n",
       " 'since dahmer resorts to standard slasher flick thrills when it should be most in the mind of the killer  it misses a major opportunity to be truly revelatory about his psyche  ': [-1],\n",
       " 'the film is oldfashioned  occasionally charming and as subtle as boldface  ': [-1],\n",
       " 'is there enough material to merit a documentary on the making of wilcos last album  ': [-1],\n",
       " 'too bad writerdirector adam rifkin situates it all in a plot as musty as one of the golden eagles carpets  ': [-1],\n",
       " 'a compendium of solondzs own worst instincts in under 90 minutes  ': [-1],\n",
       " 'a crushing disappointment  ': [-1],\n",
       " 'it feels like a community theater production of a great broadway play  even at its best  it will never hold a candle to the original  ': [-1],\n",
       " 'although based on a reallife person  john  in the movie  is a rather dull person to be stuck with for two hours  ': [-1],\n",
       " 'a fullfrontal attack on audience patience  ': [-1],\n",
       " 'a baffling misfire  and possibly the weakest movie woody allen has made in the last twenty years  ': [-1],\n",
       " 'the script kicks in  and mr  hartleys distended pace and footdragging rhythms follow  ': [-1],\n",
       " 'it appears to have been modeled on the worst revengeofthenerds clichés the filmmakers could dredge up  ': [-1],\n",
       " 'mckay shows crushingly little curiosity about  or is illequipped to examine  the interior lives of the characters in his film  much less incorporate them into his narrative  ': [-1],\n",
       " 'the picture doesnt know its a comedy  ': [-1],\n",
       " 'unspools like a highbrow  lowkey  102minute infomercial  blending entrepreneurial zeal with the testimony of satisfied customers  ': [-1],\n",
       " 'the inherent limitations of using a video game as the source material movie are once again made all too clear in this schlocky horroraction hybrid  ': [-1],\n",
       " 'this 90minute dud could pass for mike tysons e  true hollywood story  ': [-1],\n",
       " 'bray is completely at sea  with nothing but a savage garden music video on his resume  he has no clue about making a movie  ': [-1],\n",
       " 'a depressingly retrograde  postfeminist romantic comedy that takes an astonishingly condescending attitude toward women  ': [-1],\n",
       " 'you cannot guess why the cast and crew didnt sign a pact to burn the negative and the script and pretend the whole thing never existed  ': [-1],\n",
       " 'so putrid it is not worth the price of the match that should be used to burn every print of the film  ': [-1],\n",
       " 'davis has a bright  chipper style that keeps things moving  while never quite managing to connect her wishfulfilling characters to the human race  ': [-1],\n",
       " 'an average bmovie with no aspirations to be anything more  ': [-1],\n",
       " 'rob schneiders infantile crossdressing routines fill the hot chick  the latest gimmick from this unimaginative comedian  ': [-1],\n",
       " 'the best thing that can be said of the picture is that it does have a few cute moments  ': [-1],\n",
       " '    while the humor aspects of jason x were far more entertaining than i had expected  everything else about the film tanks  ': [-1],\n",
       " 'like its script  which nurses plot holes gaping enough to pilot an entire olympic swim team through  the characters in swimfan seem motivated by nothing short of dull  braindeadening hangover  ': [-1],\n",
       " 'director shekhar kapur and screenwriters michael schiffer and hossein amini have tried hard to modernize and reconceptualize things  but the barriers finally prove to be too great  ': [-1],\n",
       " 'any film that doesnt even in passing mention political prisoners  poverty and the boat loads of people who try to escape the country is less a documentary and more propaganda by way of a valentine sealed with a kiss  ': [-1],\n",
       " 'there are weird resonances between actor and role here  and theyre not exactly flattering  ': [-1],\n",
       " 'its deepsixed by a compulsion to catalog every bodily fluids gag in theres something about mary and devise a parallel clonegag  ': [-1],\n",
       " 'the nicest thing that can be said about stealing harvard  which might have been called freddy gets molested by a dog  is that its not as obnoxious as tom greens freddie got fingered  ': [-1],\n",
       " 'stars matthew perry and elizabeth hurley illicit more than a chuckle  and more jokes land than crash  but ultimately serving sara doesnt distinguish itself from the herd  ': [-1],\n",
       " 'obstacles are too easily overcome and there isnt much in the way of character development in the script  ': [-1],\n",
       " 'one of the most incoherent features in recent memory  ': [-1],\n",
       " 'im sure the filmmakers found this a remarkable and novel concept  but anybody who has ever seen an independent film can report that it is instead a cheap cliché  ': [-1],\n",
       " 'some of it is clever  but it is never melodic': [-1],\n",
       " 'director jay russell stomps in hobnail boots over natalie babbitts gentle  endearing 1975 childrens novel  ': [-1],\n",
       " 'ritchie may not have a novel thought in his head  but he knows how to pose madonna  ': [-1],\n",
       " 'what could and should have been biting and droll is instead a tepid waste of time and talent  ': [-1],\n",
       " 'the april 2002 instalment of the american war for independence  complete with loads of cgi and bushels of violence  but not a drop of human blood  ': [-1],\n",
       " 'the picture seems uncertain whether it wants to be an acidic allmale all about eve or a lush  swooning melodrama in the intermezzo strain  ': [-1],\n",
       " 'even if the enticing prospect of a lot of nubile young actors in a film about campus depravity didnt fade amid the deliberate  tiresome ugliness  it would be rendered tedious by avarys failure to construct a story with even a trace of dramatic interest  ': [-1],\n",
       " 'even by dumb actionmovie standards  ballistic  ecks vs  sever is a dumb action movie  ': [-1],\n",
       " '    blade ii is still topheavy with blazing guns  cheatfully filmed martial arts  disintegrating bloodsucker computer effects and jagged camera moves that serve no other purpose than to call attention to themselves  ': [-1],\n",
       " 'a zippy 96 minutes of mediocre special effects  hoary dialogue  fluxing accents  and  worst of all  sillylooking morlocks  ': [-1],\n",
       " 'so boring that even its target audience talked all the way through it  ': [-1],\n",
       " 'thriller directorial debut for traffic scribe gaghan has all the right parts  but the pieces dont quite fit together  ': [-1],\n",
       " 'an unfortunate title for a film that has nothing endearing about it  ': [-1],\n",
       " 'its mired in a shabby script that piles layer upon layer of action man cliché atop wooden dialogue and a shifting tone that falls far short of the peculiarly moral amorality of woos best work  ': [-1],\n",
       " 'reggio and glass so rhapsodize cynicism  with repetition and languorous slomo sequences  that glasss dirgelike score becomes a fangbaring lullaby  ': [-1],\n",
       " 'epps has neither the charisma nor the natural affability that has made tucker a star  ': [-1],\n",
       " 'an achingly enthralling premise  the film is hindered by uneven dialogue and plot lapses  ': [-1],\n",
       " 'interesting and thoroughly unfaithful version of carmen': [-1],\n",
       " 'moretti plays giovanni  a psychiatrist who predictably finds it difficult to sustain interest in his profession after the family tragedy  too predictably  in fact  ': [-1],\n",
       " 'the title helpfully offers the most succinct review of it youll read anywhere  ': [-1],\n",
       " 'essentially  the film is weak on detail and strong on personality': [-1],\n",
       " 'you wonder why enough wasnt just a music video rather than a fulllength movie  ': [-1],\n",
       " 'see clockstoppers if you have nothing better to do with 94 minutes  but be warned  you too may feel time has decided to stand still  or that the battery on your watch has died  ': [-1],\n",
       " 'a movie just for friday fans  critics be damned  if you already like this sort of thing  this is that sort of thing all over again  ': [-1],\n",
       " 'partly a schmaltzy  bythenumbers romantic comedy  partly a shallow rumination on the emptiness of success  and entirely soulless  ': [-1],\n",
       " 'the major problem with windtalkers is that the bulk of the movie centers on the wrong character  ': [-1],\n",
       " 'only a few minutes elapse before the daddy of all slashers arrives  still with the boiler suit and white mask  which look remarkably clean for a guy who has been massmurdering since 1978 but has never been seen doing laundry  ': [-1],\n",
       " 'a crude teenoriented variation on a theme that the playwright craig lucas explored with infinitely more grace and eloquence in his prelude to a kiss  ': [-1],\n",
       " 'sheridan is painfully bad  a fourthrate jim carrey who doesnt understand the difference between dumb fun and just plain dumb  ': [-1],\n",
       " 'theres something not entirely convincing about the quiet american  and that holds true for both the movie and the title character played by brendan fraser  ': [-1],\n",
       " 'director george hickenlooper has had some success with documentaries  but here his sense of story and his juvenile camera movements smack of a film school undergrad  and his maudlin ending might not have gotten him into film school in the first place  ': [-1],\n",
       " 'so aggressively cheery that pollyana would reach for a barf bag  ': [-1],\n",
       " 'what goes on for the 110 minutes of  panic room  is a battle of witlessness between a notsobright mother and daughter and an even less capable trio of criminals  ': [-1],\n",
       " 'even those of a single digit age will be able to recognize that this story is too goofy    even for disney  ': [-1],\n",
       " 'it made me want to wrench my eyes out of my head and toss them at the screen  ': [-1],\n",
       " 'lacks the visual flair and bouncing bravado that characterizes better hiphop clips and is content to recycle images and characters that were already tired 10 years ago  ': [-1],\n",
       " 'the movies biggest offense is its complete and utter lack of tension  ': [-1],\n",
       " 'the timing in nearly every scene seems a half beat off  ': [-1],\n",
       " 'our culture is headed down the toilet with the ferocity of a frozen burrito after an allnight tequila bender — and i know this because ive seen jackass  the movie  ': [-1],\n",
       " 'disappointing in comparison to other recent war movies…or any other john woo flick for that matter  ': [-1],\n",
       " 'been there done that  ': [-1],\n",
       " 'those who are only mildly curious  i fear  will be put to sleep or bewildered by the artsy and often pointless visuals  ': [-1],\n",
       " 'a movie you observe  rather than one you enter into  ': [-1],\n",
       " 'with tiny little jokes and nary an original idea  this sappy ethnic sleeper proves that not only blockbusters pollute the summer movie pool  ': [-1],\n",
       " 'given too much time to consider the looseness of the piece  the picture begins to resemble the shapeless  grasping actors workshop that it is  ': [-1],\n",
       " 'anemic  pretentious  ': [-1],\n",
       " 'shankman    and screenwriter karen janszen bungle their way through the narrative as if it were a series of bible parables and not an actual story  ': [-1],\n",
       " 'theres plenty of style in guillermo del toros sequel to the 1998 hit but why do we need 117 minutes to tell a tale that simply cant sustain more than 90 minutes  ': [-1],\n",
       " 'video games are more involving than this mess  ': [-1],\n",
       " 'we have poignancy jostling against farce  thoughtful dialogue elbowed aside by oneliners  and a visual style that incorporates rotoscope animation for no apparent reason except  maybe  that it looks neat  ': [-1],\n",
       " 'caso você sinta necessidade de sair da sala antes do término da projeção  não se preocupe  ninguém lhe enviará penas simbolizando covardia  ': [-1],\n",
       " 'for a film about action  ultimate x is the gabbiest giantscreen movie ever  bogging down in a barrage of hype  ': [-1],\n",
       " 'is there a group of more selfabsorbed women than the mother and daughters featured in this film  i dont think so  nothing wrong with performances here  but the whiney characters bugged me  ': [-1],\n",
       " '  i blame all men for war   the wardens daughter tells her father  the movie is about as deep as that sentiment  ': [-1],\n",
       " 'needs more impressionistic cinematography and exhilarating pointofview shots and fewer slowmotion grandeur shots and quickcut edits that often detract from the athleticism  ': [-1],\n",
       " 'guillen rarely gets beneath the surface of things  she lists ingredients  but never mixes and stirs  ': [-1],\n",
       " 'watching it is rather like viewing a long soap opera in which only the first episode was any good  ': [-1],\n",
       " 'lacks heart  depth and  most of all  purpose  ': [-1],\n",
       " 'remember back when thrillers actually thrilled  when the twist endings were actually surprising  when the violence actually shocked  when the heroes were actually under 40  sadly  as blood work proves  that was a long  long time ago  ': [-1],\n",
       " 'firsttime writerdirector dylan kidd also has a good ear for dialogue  and the characters sound like real people  ': [-1],\n",
       " 'outside of burgers desire to make some kind of film  its really unclear why this project was undertaken': [-1],\n",
       " 'the darker elements of misogyny and unprovoked violence suffocate the illumination created by the two daughters and the sparse instances of humor meant to shine through the gloomy film noir veil  ': [-1],\n",
       " 'while hill has learned new tricks  the tricks alone are not enough to salvage this lifeless boxing film  ': [-1],\n",
       " 'the movies downfall is to substitute plot for personality  it doesnt really know or care about the characters  and uses them as markers for a series of preordained events  ': [-1],\n",
       " 'at the bottom rung of the series entries  ': [-1],\n",
       " 'movie fans  get ready to take off    the other direction  ': [-1],\n",
       " 'bondinspired  certainly  likely to have decades of life as a classic movie franchise  lets hope not  ': [-1],\n",
       " 'the gantzes interviews tend to let the guys off the hook  ': [-1],\n",
       " 'the re enactments  however fascinating they may be as history  are too crude to serve the work especially well  ': [-1],\n",
       " 'death might be a release  ': [-1],\n",
       " 'the x potion gives the quickly named blossom  bubbles and buttercup supernatural powers that include extraordinary strength and laserbeam eyes  which unfortunately dont enable them to discern flimsy screenplays  ': [-1],\n",
       " 'to the civilized mind  a movie like ballistic  ecks vs  sever is more of an ordeal than an amusement  ': [-1],\n",
       " 'a battle between bugeye theatre and deadeye matinee  ': [-1],\n",
       " 'this overlong infomercial  due out on video before months end  is tepid and tedious  ': [-1],\n",
       " 'the whole mess boils down to a transparently hypocritical work that feels as though its trying to set the womens liberation movement back 20 years  ': [-1],\n",
       " 'thoroughly awful  ': [-1],\n",
       " 'yes  one enjoys seeing joan grow from awkward young woman to strong  determined monarch  but her love for the philandering philip only diminishes her stature  ': [-1],\n",
       " 'carente de imaginación  mal dirigida  peor actuada y sin un ápice de romance  es una verdadera pérdida de tiempo y dinero': [-1],\n",
       " 'jonah is only soso    the addition of a biblical message will either improve the film for you  or it will lessen it  ': [-1],\n",
       " 'fear dot com is more frustrating than a modem that disconnects every 10 seconds  ': [-1],\n",
       " 'if this holiday movie is supposed to be a gift  somebody unwrapped it early  took out all the good stuff  and left behind the crap  literally   ': [-1],\n",
       " 'expanded to 65 minutes for theatrical release  it still feels somewhat unfinished  ': [-1],\n",
       " 'despite the premise of a good story    it wastes all its star power on cliched or meaningless roles  ': [-1],\n",
       " 'dont let the subtitles fool you  the movie only proves that hollywood no longer has a monopoly on mindless action  ': [-1],\n",
       " 'the film goes from being an unusual scifi character study to a chase flick that detracts from its ending  ': [-1],\n",
       " 'more maudlin than sharp  ': [-1],\n",
       " 'the words  frankly  my dear  i dont give a damn   have never been more appropriate  ': [-1],\n",
       " 'a great idea becomes a notgreat movie  ': [-1],\n",
       " '    theres a choppy  surfaceeffect feeling to the whole enterprise  ': [-1],\n",
       " 'the film is grossly contradictory in conveying its social message  if indeed there is one  ': [-1],\n",
       " 'its tough to tell which is in more abundant supply in this woefully hackneyed movie  directed by scott kalvert  about street gangs and turf wars in 1958 brooklyn  stale cliches  gratuitous violence  or empty machismo  ': [-1],\n",
       " 'it doesnt quite work  but theres enough here to make us look forward to the russos next offering  ': [-1],\n",
       " 'you could nap for an hour and not miss a thing  ': [-1],\n",
       " 'every bit as bogus as most disney live action family movies are  no real plot  no real conflict  no real point  ': [-1],\n",
       " 'vaguely interesting  but its just too too much  ': [-1],\n",
       " 'aan opportunity wasted  ': [-1],\n",
       " 'definitely in the guilty pleasure bmovie category  reign of fire is so incredibly inane that it is laughingly enjoyable  ': [-1],\n",
       " 'watchable up until the point where the situations and the dialogue spin hopelessly out of control  that is to say  when carol kane appears on the screen  ': [-1],\n",
       " 'it is messy  uncouth  incomprehensible  vicious and absurd  ': [-1],\n",
       " 'martin scorsese cria um espetáculo visual que não possui alma  um filme esteticamente belo  mas emocionalmente frio  ': [-1],\n",
       " 'gaping plot holes sink this substandard thriller and drag audience enthusiasm to crush depth  ': [-1],\n",
       " 'sluggish  tonally uneven  ': [-1],\n",
       " 'a cheap scam put together by some cynical creeps at revolution studios and imagine entertainment to make the suckers out there surrender 9 and 93 minutes of unrecoverable life  ': [-1],\n",
       " 'impostor cant think of a thing to do with these characters except have them run through dark tunnels  fight off various anonymous attackers  and evade elaborate surveillance technologies  ': [-1],\n",
       " 'the film makes a fatal mistake  it asks us to care about a young man whose only apparent virtue is that he is not quite as unpleasant as some of the people in his life  ': [-1],\n",
       " 'too leisurely paced and visually drab for its own good  it succeeds in being only sporadically amusing  ': [-1],\n",
       " '  freaky friday   its not  ': [-1],\n",
       " 'bad company has one of the most moronic screenplays of the year  full of holes that will be obvious even to those who arent looking for them  ': [-1],\n",
       " 'so much facile technique  such cute ideas  so little movie  ': [-1],\n",
       " 'truth to tell  if youve seen more than halfadozen horror films  theres nothing here you havent seen before  ': [-1],\n",
       " 'contains all the substance of a twinkie  easy to swallow  but scarcely nourishing  ': [-1],\n",
       " 'a tired  unimaginative and derivative variation of that alreadyshallow genre  ': [-1],\n",
       " 'one of those films that seems tailor made to air on pay cable to offer some modest amusements when one has nothing else to watch  ': [-1],\n",
       " 'the picture  scored by a perversely cheerful marcus miller accordionharmonicabanjo abomination  is a monument to bad in all its florid variety  ': [-1],\n",
       " 'like being trapped at a perpetual frat party    how can something so gross be so boring  ': [-1],\n",
       " 'outerspace buffs might love this film  but others will find its pleasures intermittent  ': [-1],\n",
       " 'there is only so much baked cardboard i need to chew  ': [-1],\n",
       " 'dont even bother to rent this on video  ': [-1],\n",
       " 'a movie that harps on mediaconstructed issues like whether compromise is the death of self… this orgasm wont be an exceedingly memorable one for most people  ': [-1],\n",
       " 'the most opaque  selfindulgent and just plain goofy an excuse for a movie as you can imagine  ': [-1],\n",
       " 'snipes is both a snore and utter tripe  ': [-1],\n",
       " 'phonedin business as usual  ': [-1],\n",
       " 'a film that should be relegated to a dark video store corner is somehow making its way instead to theaters  its hard to imagine acting that could be any flatter  ': [-1],\n",
       " 'partnering murphy with robert de niro for the tvcops comedy showtime would seem to be surefire casting  the catch is that theyre stuck with a script that prevents them from firing on all cylinders  ': [-1],\n",
       " 'impostor is a step down for director gary fleder  ': [-1],\n",
       " 'too infuriatingly quirky and taken with its own style  ': [-1],\n",
       " 'pap invested in undergraduate doubling subtexts and ridiculous stabs at existentialism reminding of the discovery of the wizard of god in the fifth trek flick  ': [-1],\n",
       " 'trivial where it should be profound  and hypercliched where it should be sincere  ': [-1],\n",
       " 'the film is like a series of beginnings and middles that never take off  ': [-1],\n",
       " 'i hated every minute of it  ': [-1],\n",
       " 'manipulative claptrap  a periodpiece movieoftheweek  plain old blarney    take your pick  all three descriptions suit evelyn  a besotted and obvious drama that tells us nothing new  ': [-1],\n",
       " 'de ayala is required to supply too much of the energy in a film that is  overall  far too staid for its subject matter  ': [-1],\n",
       " '    comes alive only when it switches gears to the sentimental  ': [-1],\n",
       " 'credibility sinks into a mire of sentiment  ': [-1],\n",
       " 'ararat feels like a book report': [-1],\n",
       " 'boy  has this franchise ever run out of gas  ': [-1],\n",
       " 'completely creatively stillborn and executed in a manner that im not sure could be a single iota worse    a soulless hunk of exploitative garbage  ': [-1],\n",
       " 'its so laddish and juvenile  only teenage boys could possibly find it funny  ': [-1],\n",
       " 'this is a movie filled with unlikable  spiteful idiots  whether or not their friendship is salvaged makes no difference in the least  ': [-1],\n",
       " 'it is a comedy thats not very funny and an action movie that is not very thrilling  and an uneasy alliance  at that   ': [-1],\n",
       " 'the directors twitchy sketchbook style and adroit perspective shifts grow wearisome amid leaden pacing and indifferent craftsmanship  most notably wretched sound design   ': [-1],\n",
       " 'a formula family tearjerker told with a heavy irish brogue    accentuating  rather than muting  the plots saccharine thrust  ': [-1],\n",
       " 'if routine action and jokes like this are your cup of tea  then pay your 8 and get ready for the big shear  this is one baaaaaaaaad movie  ': [-1],\n",
       " 'strong filmmaking requires a clear sense of purpose  and in that ohsoimportant category  the four feathers comes up short  ': [-1],\n",
       " 'is anyone else out there getting tired of the whole slomo  doublepistoled  ballisticpyrotechnic hong kong action aesthetic  ': [-1],\n",
       " 'everything was as superficial as the forced new jersey lowbrow accent uma had  ': [-1],\n",
       " 'it seems to me the film is about the art of ripping people off without ever letting them consciously know you have done so': [-1],\n",
       " 'lazy  miserable and smug  this is one of the biggest disappointments of the year  ': [-1],\n",
       " 'most of the film feels conceived and shot on the fly  like between lunch breaks for shearers radio show and his simpson voiceovers  ': [-1],\n",
       " 'calculated swill  ': [-1],\n",
       " 'the great pity is that those responsible didnt cut their losses – and ours – and retitle it the adventures of directtovideo nash  and send it to its proper home  ': [-1],\n",
       " 'the script has less spice than a rat burger and the rocks fighting skills are more in line with steven seagal  ': [-1],\n",
       " 'i didnt find much fascination in the swinging  what theyre doing is a matter of plumbing arrangements and mind games  of no erotic or sensuous charge  but that they are doing it is thoughtprovoking  ': [-1],\n",
       " 'its initial excitement settles into a warmed over pastiche  ': [-1],\n",
       " 'that frenetic spectacle on the tv show has usually been leavened by a charm thats conspicuously missing from the girls bigscreen blowout  ': [-1],\n",
       " 'instead of a witty expose on the banality and hypocrisy of too much kidvid  we get an ugly  meanspirited lashing out by an adult whos apparently been forced by his kids to watch too many barney videos  ': [-1],\n",
       " 'unless you are in dire need of a diesel fix  there is no real reason to see it  wait for video  and then dont rent it  ': [-1],\n",
       " 'a feeble tootsie knockoff  ': [-1],\n",
       " '… is an arthritic attempt at directing by callie khouri  i had to look away  this was god awful  ': [-1],\n",
       " 'the films stagecrafts are intimate and therefore bolder than the otherwise calculated artifice that defines and overwhelms the films production design  ': [-1],\n",
       " 'this is a film living far too much in its own head  ': [-1],\n",
       " 'a monster combat thriller as impersonal in its relentlessness as the videogame series that inspired it  ': [-1],\n",
       " 'with generic sets and bgrade special effects  jason is about as convincing on the scifi front as tvs defunct cleopatra 2525  ': [-1],\n",
       " 'this film was made to get laughs from the slowest person in the audience  just pure slapstick with lots of inane  inoffensive screaming and exaggerated facial expressions  ': [-1],\n",
       " 'the situations and jokes are as predictable and as lowbrow as the endless pratfalls the boys take in their high heels  ': [-1],\n",
       " 'laughably  irredeemably awful  ': [-1],\n",
       " 'a bold  and lovely  experiment that will almost certainly bore most audiences into their own brightly colored dreams  ': [-1],\n",
       " 'solondz is without doubt an artist of uncompromising vision  but that vision is beginning to feel  if not morally bankrupt  at least terribly monotonous  ': [-1],\n",
       " 'the uneven movie does have its charms and its funny moments but not quite enough of them  ': [-1],\n",
       " 'not so much farcical as sour  ': [-1],\n",
       " 'it all looks and plays like a 40 million version of a game youre more likely to enjoy on a computer  ': [-1],\n",
       " 'its hard to like a film about a guy who is utterly unlikeable  and shiner  starring michael caine as an aging british boxing promoter desperate for a taste of fame and fortune  is certainly that  ': [-1],\n",
       " 'i couldnt help but feel the wasted potential of this slapstick comedy  ': [-1],\n",
       " 'only for young children  if them  their parents would do well to cram earplugs in their ears and put pillowcases over their heads for 87 minutes  ': [-1],\n",
       " 'a little weak  and it isnt that funny  ': [-1],\n",
       " 'leaves us wondering less about its ideas and more about its characterization of hitler and the contrived nature of its provocative conclusion  ': [-1],\n",
       " 'despite a performance of sustained intelligence from stanford and another of subtle humour from bebe neuwirth  as an older woman who seduces oscar  the film founders on its lack of empathy for the social milieu  rich new york intelligentsia  and its off': [-1],\n",
       " 'breens script is sketchy with actorish notations on the margin of acting  ': [-1],\n",
       " 'a seriously bad film with seriously warped logic by writerdirector kurt wimmer at the screenplay level  ': [-1],\n",
       " 'its a drag how nettelbeck sees working women  or at least this working woman  for whom she shows little understanding  ': [-1],\n",
       " 'poor editing  bad bluescreen  and ultracheesy dialogue highlight the radical action  ': [-1],\n",
       " 'many of benjamins elements feel like theyve been patched in from an episode of miami vice  ': [-1],\n",
       " 'like all abstract art  the film does not make this statement in an easily accessible way  and  unless prewarned  it would be very possible for a reasonably intelligent person to sit through its tidal wave of imagery and not get this vision at all  ': [-1],\n",
       " 'director hoffman  his writer and klines agent should serve detention': [-1],\n",
       " 'squandering his opportunity to make absurdist observations  burns gets caught up in the rush of slapstick thoroughfare  ': [-1],\n",
       " 'depicts the sorriest and most sordid of human behavior on the screen  then laughs at how clever its being  ': [-1],\n",
       " 'youll laugh for not quite and hour and a half  but come out feeling strangely unsatisfied  youll feel like you ate a reeses without the peanut butter    ': [-1],\n",
       " 'i can take infantile humor    but this is the sort of infantile that makes you wonder about changing the director and writers diapers  ': [-1],\n",
       " 'the crassness of this reactionary thriller is matched only by the ridiculousness of its premise  ': [-1],\n",
       " 'where last time jokes flowed out of chos life story  which provided an engrossing dramatic through line  here the comedian hides behind obviously constructed routines  ': [-1],\n",
       " 'serving sara doesnt serve up a whole lot of laughs  ': [-1],\n",
       " 'a lifetime movie about men  ': [-1],\n",
       " 'twenty years later  reggio still knows how to make a point with poetic imagery  but his ability to startle has been stifled by the very prevalence of the fastforward technology that he so stringently takes to task  ': [-1],\n",
       " 'ends up being mostly about ravishing costumes  eyefilling  widescreen production design and joans wacky decision to stand by her man  no matter how many times he demonstrates that hes a disloyal satyr  ': [-1],\n",
       " 'a dreary ripoff of goodfellas that serves as a muddled and offensive cautionary tale for hispanic americans  ': [-1],\n",
       " 'plays like a glossy melodrama that occasionally verges on camp  ': [-1],\n",
       " 'may offend viewers not amused by the sick sense of humor  ': [-1],\n",
       " 'like a soft drink thats been sitting open too long  its too much syrup and not enough fizz  ': [-1],\n",
       " 'frank capra played this story straight  but the 2002 film doesnt really believe in it  and breaks the mood with absurdly inappropriate comedy scenes  ': [-1],\n",
       " 'cox is far more concerned with aggrandizing madness  not the man  and the results might drive you crazy  ': [-1],\n",
       " 'its a very sincere work  but it would be better as a diary or documentary  ': [-1],\n",
       " 'watching it is rather like an overlong visit from a large group of your relatives  as your relatives swap one mundane story after another  you begin to wonder if they are ever going to depart  ': [-1],\n",
       " 'its hard to believe that something so short could be so flabby  ': [-1],\n",
       " 'disney again ransacks its archives for a quickbuck sequel  ': [-1],\n",
       " 'if you saw benignis pinocchio at a public park  youd grab your kids and run and then probably call the police  ': [-1],\n",
       " 'a relative letdown  ': [-1],\n",
       " 'may cause you to bite your tongue to keep from laughing at the ridiculous dialog or the ohso convenient plot twists  ': [-1],\n",
       " 'as exciting as all this exoticism might sound to the typical pax viewer  the rest of us will be lulled into a coma  ': [-1],\n",
       " 'like many such biographical melodramas  it suffers from the awkwardness that results from adhering to the messiness of true stories  ': [-1],\n",
       " 'by the time the plot grinds itself out in increasingly incoherent fashion  you might be wishing for a watch that makes time go faster rather than the other way around  ': [-1],\n",
       " 'rarely has a films title served such dire warning  ': [-1],\n",
       " 'adults will wish the movie were less simplistic  obvious  clumsily plotted and shallowly characterized  but what are adults doing in the theater at all  ': [-1],\n",
       " 'despite some comic sparks  welcome to collinwood never catches fire  ': [-1],\n",
       " 'the kids in the audience at the preview screening seemed bored  cheering the pratfalls but little else  their parents  wise folks that they are  read books  ': [-1],\n",
       " 'its all surface psychodramatics  ': [-1],\n",
       " '  the time machine  is a movie that has no interest in itself  it doesnt believe in itself  it has no sense of humor…its just plain bored  ': [-1],\n",
       " 'the script by vincent r  nebrida    tries to cram too many ingredients into one small pot  ': [-1],\n",
       " 'i hate the feeling of having been slimed in the name of high art  ': [-1],\n",
       " 'too clever by about ninetenths  ': [-1],\n",
       " 'its both sitcomishly predictable and cloying in its attempts to be poignant  ': [-1],\n",
       " 'blade ii has a brilliant director and charismatic star  but it suffers from rampant vampire devaluation  ': [-1],\n",
       " 'a fairly bythebooks blend of action and romance with sprinklings of intentional and unintentional comedy  ': [-1],\n",
       " 'what you expect is just what you get    assuming the bar of expectations hasnt been raised above sixthgrade height  ': [-1],\n",
       " 'this is the first full scale wwii flick from hong kongs john woo  hes not good with people  ': [-1],\n",
       " 'i suspect this is the kind of production that would have been funnier if the director had released the outtakes theatrically and used the film as a bonus feature on the dvd  ': [-1],\n",
       " 'mandel hollands direction is uninspired  and his scripting unsurprising  but the performances by phifer and black are ultimately winning  youll find yourself wishing that you and they were in another movie  ': [-1],\n",
       " 'a muddled limp biscuit of a movie  a vampire soap opera that doesnt make much sense even on its own terms  ': [-1],\n",
       " 'its the element of condescension  as the filmmakers look down on their workingclass subjects from their lofty perch  that finally makes sex with strangers  which opens today in the new york metropolitan area  so distasteful  ': [-1],\n",
       " 'this dubious product of a collegespawned  colgate u   comedy ensemble known as broken lizard plays like a mix of cheech and chong and chips  ': [-1],\n",
       " 'collateral damage offers formula payback and the big payoff  but the explosions tend to simply hit their marks  pyrocorrectly  ': [-1],\n",
       " 'putting the primitive murderer inside a hightech space station unleashes a pandoras box of special effects that run the gamut from cheesy to cheesier to cheesiest  ': [-1],\n",
       " 'this is rote drivel aimed at mom and dads wallet  ': [-1],\n",
       " 'lawrence preaches strictly to the converted  ': [-1],\n",
       " 'with spy kids 2  the island of lost dreams writerdirectorproducer robert rodriguez has cobbled together a film that feels like a sugar high gone awry  ': [-1],\n",
       " 'you come away thinking not only that kate isnt very bright  but that she hasnt been worth caring about and that maybe she  janine and molly  an allwoman dysfunctional family  deserve one another  ': [-1],\n",
       " 'its as if allen  at 66  has stopped challenging himself  ': [-1],\n",
       " 'a frustrating tweener  too slick  contrived and exploitative for the art houses and too cynical  small and decadent for the malls  ': [-1],\n",
       " 'visually exciting scifi film which suffers from a lackluster screenplay  ': [-1],\n",
       " 'i like my christmas movies with more elves and snow and less pimps and hos  ': [-1],\n",
       " 'the movie is as padded as allens jelly belly  ': [-1],\n",
       " 'should have been worth cheering as a breakthrough but is devoid of wit and humor  ': [-1],\n",
       " 'the film is based on truth and yet there is something about it that feels incomplete  as if the real story starts just around the corner  ': [-1],\n",
       " 'hanekes script  from elfriede jelineks novel  is contrived  unmotivated  and psychologically unpersuasive  with an inconclusive ending  ': [-1],\n",
       " '    no charm  no laughs  no fun  no reason to watch  ': [-1],\n",
       " 'been there  done that    a thousand times already  and better  ': [-1],\n",
       " '    familiar and predictable  and 45ths of it might as well have come from a xerox machine rather than  writerdirector  franc  reyes word processor  ': [-1],\n",
       " 'solaris  is a shapeless inconsequential move relying on the viewer to do most of the work  ': [-1],\n",
       " 'as saccharine as it is disposable  ': [-1],\n",
       " 'despite some charm and heart  this quirky soccer import is forgettable': [-1],\n",
       " 'a sour attempt at making a farrelly brothersstyle  downanddirty laugher for the female set  ': [-1],\n",
       " 'selfcongratulatory  misguided  and illinformed  if nonetheless compulsively watchable  ': [-1],\n",
       " 'even horror fans will most likely not find what theyre seeking with trouble every day  the movie lacks both thrills and humor  ': [-1],\n",
       " 'plot  characters  drama  emotions  ideas  all are irrelevant to the experience of seeing the scorpion king  ': [-1],\n",
       " 'as selfaware movies go  who is cletis tout  is clever enough  though thin writing proves its undoing  ': [-1],\n",
       " 'if there was ever a movie where the upbeat ending feels like a copout  this is the one  ': [-1],\n",
       " 'if this dud had been made in the 70s  it would have been called the hills have antlers and played for about three weeks in driveins  ': [-1],\n",
       " 'the pretensions  and disposable story  sink the movie  and diesel isnt the actor to save it  ': [-1],\n",
       " 'although there are several truly jolting scares  theres also an abundance of hackneyed dialogue and more silly satanic business than you can shake a severed limb at  ': [-1],\n",
       " 'its of the quality of a lesser harrison ford movie  six days  seven nights  maybe  or that dreadful sabrina remake  ': [-1],\n",
       " 'the master of disguise is awful  its pauly shore awful  dont say you werent warned  ': [-1],\n",
       " 'just an average comedic dateflick but not a waste of time  ': [-1],\n",
       " 'seems like someone going through the motions  ': [-1],\n",
       " 'when your subject is illusion versus reality  shouldnt the reality seem at least passably real  ': [-1],\n",
       " 'if this disposable tissue has one wild card  its john turturro  whos simply fab as a spanish butler with a foot fetish  ': [-1],\n",
       " 'parker should be commended for taking a fresh approach to familiar material  but his determination to remain true to the original text leads him to adopt a somewhat mannered tone    that ultimately dulls the human tragedy at the storys core  ': [-1],\n",
       " 'no big whoop  nothing new to see  zero thrills  too many flashbacks and a choppy ending make for a bad film  ': [-1],\n",
       " 'donovan    squanders his main asset  jackie chan  and fumbles the vital action sequences  ': [-1],\n",
       " 'in the end  there isnt much to it  ': [-1],\n",
       " 'has a customarily jovial air but a deficit of flimflam inventiveness  ': [-1],\n",
       " 'theres something fundamental missing from this story  something or someone to care about  ': [-1],\n",
       " 'enthusiastically taking up the current teen movie concern with bodily functions  walt beckers film pushes all the demographically appropriate comic buttons  ': [-1],\n",
       " 'men in black ii creates a new threat for the mib  but recycles the same premise  ': [-1],\n",
       " 'patchy combination of soap opera  lowtech magic realism and  at times  ploddingly sociological commentary  ': [-1],\n",
       " 'after a while  hoffmans quirks and mannerisms  particularly his penchant for tearing up on cue  things that seem so real in small doses  become annoying and artificial  ': [-1],\n",
       " 'feels aimless for much of its running time  until late in the film when a tidal wave of plot arrives  leaving questions in its wake  ': [-1],\n",
       " 'when mr  hundert tells us in his narration that this is a story without surprises   we nod in agreement  ': [-1],\n",
       " 'swimfan falls victim to sloppy plotting  an insultingly unbelievable final act and a villainess who is too crazy to be interesting  ': [-1],\n",
       " 'succeeds in providing a disquiet world the longdreaded completion of the police academy series  ': [-1],\n",
       " 'each scene drags  underscoring the obvious  and sentiment is slathered on top  ': [-1],\n",
       " 'it has the air of a surprisingly juvenile lark  a popinfluenced prank whose charms are immediately apparent and wear thin with repetition  ': [-1],\n",
       " 'the skirmishes for power waged among victims and predators settle into an undistinguished rhythm of artificial suspense  ': [-1],\n",
       " 'an  o bruin  where art thou   style crosscountry adventure    it has sporadic bursts of liveliness  some soso slapstick and a few earpleasing songs on its soundtrack  ': [-1],\n",
       " 'a perplexing example of promise unfulfilled  despite many charming moments  ': [-1],\n",
       " 'dogtown is hollow  selfindulgent  and  worst of all  boring  ': [-1],\n",
       " 'johnson has  in his first film  set himself a task he is not nearly up to  ': [-1],\n",
       " 'with a completely predictable plot  youll swear that youve seen it all before  even if youve never come within a mile of the longest yard  ': [-1],\n",
       " 'a stuporously solemn film  ': [-1],\n",
       " 'this 10th film in the series looks and feels tired  ': [-1],\n",
       " 'at best this is a film for the under7 crowd  but it would be better to wait for the video  and a very rainy day  ': [-1],\n",
       " 'wendigo wants to be a monster movie for the arthouse crowd  but it falls into the trap of pretention almost every time  ': [-1],\n",
       " 'be forewarned  if youre depressed about anything before watching this film  you may just end up trying to drown yourself in a lake afterwards  ': [-1],\n",
       " 'just when the movie seems confident enough to handle subtlety  it dives into soapy bathos  ': [-1],\n",
       " 'meyjes focuses too much on max when he should be filling the screen with this tortured  dull artist and monsterinthe making  ': [-1],\n",
       " 'does what should seem impossible  it makes serial killer jeffrey dahmer boring  ': [-1],\n",
       " 'a story which fails to rise above its disgusting source material  ': [-1],\n",
       " 'formula 51 has dulled your senses faster and deeper than any recreational drug on the market  ': [-1],\n",
       " 'the movie feels like its going to be great  and it carries on feeling that way for a long time  but takeoff just never happens  ': [-1],\n",
       " 'cacoyannis is perhaps too effective in creating an atmosphere of dustcaked stagnation and labored gentility  ': [-1],\n",
       " 'while the story is betterfocused than the incomprehensible anne rice novel its based upon  queen of the damned is a pointless  meandering celebration of the gothvampire  tortured woeisme lifestyle  ': [-1],\n",
       " 'director ferzan ozpetek creates an interesting dynamic with the members of this group  who live in the same apartment building  but he loses his focus when he concentrates on any single person  ': [-1],\n",
       " 'an awkwardly contrived exercise in magic realism  ': [-1],\n",
       " 'at every opportunity to do something clever  the film goes right over the edge and kills every sense of believability    all you have left is a nosurprise series of explosions and violence while banderas looks like hes not trying to laugh at how bad it': [-1],\n",
       " 'a blair witch style adventure that plays like a bad soap opera  with passable performances from everyone in the cast  ': [-1],\n",
       " 'it all feels like a monty python sketch gone horribly wrong  ': [-1],\n",
       " 'essentially a collection of bits  and theyre all naughty  ': [-1],\n",
       " 'imagine a film that begins as a seven ripoff  only to switch to a mix of the shining  the thing  and any naked teenagers horror flick from the 1980s  ': [-1],\n",
       " 'my advice is to skip the film and pick up the soundtrack  ': [-1],\n",
       " 'hard as this may be to believe  here on earth  a surprisingly similar teen drama  was a better film  ': [-1],\n",
       " 'a strong first quarter  slightly less so second quarter  and average second half  ': [-1],\n",
       " 'sweet home alabama is one dumb movie  but its stupidity is so relentlessly harmless that it almost wins you over in the end  ': [-1],\n",
       " 'a technically wellmade suspenser    but its abrupt drop in iq points as it races to the finish line proves simply too discouraging to let slide  ': [-1],\n",
       " 'a slowmoving policeprocedural thriller that takes its title all too literally  ': [-1],\n",
       " 'never again  while nothing special  is pleasant  diverting and modest  definitely a step in the right direction  ': [-1],\n",
       " 'a cautionary tale about the folly of superficiality that is itself endlessly superficial  ': [-1],\n",
       " 'certainly beautiful to look at  but its not very informative about its titular character and no more challenging than your average television biopic  ': [-1],\n",
       " 'the story itself is actually quite vapid  ': [-1],\n",
       " 'whats at stake in this film is nothing more than an obsolete  if irritating  notion of class  ': [-1],\n",
       " 'from beginning to end  this overheated melodrama plays like a student film  ': [-1],\n",
       " 'its hard to imagine another director ever making his wife look so bad in a major movie  ': [-1],\n",
       " 'the movie doesnt add anything fresh to the myth  ': [-1],\n",
       " 'an odd  haphazard  and inconsequential romantic comedy  ': [-1],\n",
       " 'blue crush is as predictable as the tides     the movie feels stitched together from stock situations and characters from other movies  ': [-1],\n",
       " 'so earnest and wellmeaning  and so stocked with talent  that you almost forget the sheer  ponderous awfulness of its script  ': [-1],\n",
       " 'indifferently implausible popcorn programmer of a movie  ': [-1],\n",
       " 'when you find yourself rooting for the monsters in a horror movie  you know the picture is in trouble  ': [-1],\n",
       " 'even if it made its original release date last fall  it wouldve reeked of a beenthere  donethat sameness  ': [-1],\n",
       " 'like coming into a longrunning  wellwritten television series where youve missed the first halfdozen episodes and probably wont see the next six  ': [-1],\n",
       " 'despite hoffmans best efforts  wilson remains a silent  lumpish cipher  his encounters reveal nothing about who he is or who he was before  ': [-1],\n",
       " 'a grim  flat and boring werewolf movie that refuses to develop an energy level  ': [-1],\n",
       " 'although it starts off so bad that you feel like running out screaming  it eventually works its way up to merely bad rather than painfully awful  ': [-1],\n",
       " 'despite some strong performances  never rises above the level of a telanovela  ': [-1],\n",
       " 'as it abruptly crosscuts among the five friends  it fails to lend the characters individual stories enough dramatic resonance to make us care about them  ': [-1],\n",
       " 'its not without its pleasures  but ill stick with the tune  ': [-1],\n",
       " 'the bigscreen scooby makes the silly original cartoon seem smart and wellcrafted in comparison  ': [-1],\n",
       " 'just a bunch of good actors flailing around in a caper thats neither original nor terribly funny  ': [-1],\n",
       " 'lets hope  shall we   that the true story by which all the queens men is allegedly  inspired  was a lot funnier and more deftly enacted than whats been cobbled together onscreen  ': [-1],\n",
       " 'cherish is a dud  a romantic comedy thats not the least bit romantic and only mildly funny  ': [-1],\n",
       " 'an instant candidate for worst movie of the year  ': [-1],\n",
       " 'just like hearsts enormous yacht  its slow and unwieldy and takes a long time to reach its destination  ': [-1],\n",
       " 'doesnt come close to justifying the hype that surrounded its debut at the sundance film festival two years ago  ': [-1],\n",
       " 'screenwriters scott abbott and michael petroni have turned rices complex akasha into a cartoon monster  ': [-1],\n",
       " 'plays in broad outline as pandering middleage buddycomedy  ': [-1],\n",
       " 'the most illconceived animated comedy since the 1991 dog rover dangerfield  ': [-1],\n",
       " 'the films maudlin focus on the young womans infirmity and her naive dreams play like the worst kind of hollywood heartstring plucking  ': [-1],\n",
       " 'check your brain and your secret agent decoder ring at the door because you dont want to think too much about whats going on  the movie does has some entertainment value  how much depends on how well you like chris rock  ': [-1],\n",
       " 'harvard man is a semithrowback  a reminiscence without nostalgia or sentimentality  ': [-1],\n",
       " '    a hokey piece of nonsense that tries too hard to be emotional  ': [-1],\n",
       " 'this idea has lost its originality    and neither star appears very excited at rehashing what was basically a onejoke picture  ': [-1],\n",
       " '    stumbles over every cheap trick in the book trying to make the outrage come even easier  ': [-1],\n",
       " 'its a thin notion  repetitively stretched out to feature length  awash in selfconsciously flashy camera effects  droning house music and flat  flat dialogue  ': [-1],\n",
       " 'whats next  the porkys revenge  ultimate edition  ': [-1],\n",
       " 'desperately unfunny when it tries to makes us laugh and desperately unsuspenseful when it tries to make us jump out of our seats  ': [-1],\n",
       " 'a cross between blow and boyz n the hood  this movie strives to be more  but doesnt quite get there  good performances keep it from being a total rehash  ': [-1],\n",
       " 'slow  dry  poorly cast  but beautifully shot  ': [-1],\n",
       " 'scherfig  who has had a successful career in tv  tackles more than she can handle  ': [-1],\n",
       " 'the armenian genocide deserves a more engaged and honest treatment  ': [-1],\n",
       " 'succumbs to the same kind of maudlin  sentimental mysticism that mars the touched by an angel school of nongod spiritualuplift movies  ': [-1],\n",
       " 'dont let your festive spirit go this far  ': [-1],\n",
       " 'this one is certainly wellmeaning  but its also simpleminded and contrived  ': [-1],\n",
       " 'credibility levels are low and character development a nonstarter  ': [-1],\n",
       " 'a mawkish  implausible platonic romance that makes chaplins city lights seem dispassionate by comparison  ': [-1],\n",
       " 'priggish  lethargically paced parable of renewal  ': [-1],\n",
       " 'the plot plummets into a comedy graveyard before janice comes racing to the rescue in the final reel  ': [-1],\n",
       " 'this 72minute film does have some exciting scenes  but its a tad slow  ': [-1],\n",
       " 'national lampoons van wilder may aim to be the next animal house  but it more closely resembles this years version of tomcats  ': [-1],\n",
       " 'the problem with the bread  my sweet is that its far too sentimental  ': [-1],\n",
       " 'traffics in the kind of prechewed racial clichés that have already been through the corporate standupcomedy mill  ': [-1],\n",
       " 'the action quickly sinks into bythenumbers territory  ': [-1],\n",
       " 'well made but uninvolving  bloodwork isnt a terrible movie  just a stultifyingly obvious one  an unrewarding collar for a murder mystery  ': [-1],\n",
       " 'if youve been to more than one indie flick in your life  chances are youve already seen this kind of thing  ': [-1],\n",
       " 'i cant begin to tell you how tedious  how resolutely unamusing  how thoroughly unrewarding all of this is  and what a reckless squandering of four fine acting talents    ': [-1],\n",
       " 'elicits more groans from the audience than jar jar binks  scrappy doo and scooby dumb  all wrapped up into one  ': [-1],\n",
       " 'if this silly little cartoon can inspire a few kids not to grow up to be greedy bastards  more power to it  ': [-1],\n",
       " 'despite the evocative aesthetics evincing the hollow state of modern love life  the film never percolates beyond a monotonous whine  ': [-1],\n",
       " 'includes too much obvious padding  ': [-1],\n",
       " 'the performances are so leaden  michael rymers direction is so bloodless and the dialogue is so corny that the audience laughs out loud  ': [-1],\n",
       " 'yet another selfconsciously overwritten story about a ragtag bunch of wouldbe characters that team up for a cantmiss heist  only to have it all go wrong  ': [-1],\n",
       " 'for all of the contemporary postcolonialist consciousness that kapur tries to bring to the four feathers  the oddest thing about the movie is how it winds up affirming the same damn moldy values the material has always held dear  ': [-1],\n",
       " 'a very depressing movie of many missed opportunities  ': [-1],\n",
       " 'though the film is wellintentioned  one could rent the original and get the same love story and parable  ': [-1],\n",
       " 'leaves you with a knot in your stomach  its power is undercut by its own headbanging obviousness  ': [-1],\n",
       " 'though a bit of a patchwork in script and production  a glossy  rich green  environment almost makes the picture work  ': [-1],\n",
       " 'scores no points for originality  wit  or intelligence  its a cookiecutter movie  a cutandpaste job  ': [-1],\n",
       " 'like most sequels  it takes what worked last time  repeats it and adds more characters  more stunts  more stuff in attempt to camouflage its sameness  ': [-1],\n",
       " 'in its best moments  resembles a bad high school production of grease  without benefit of song  ': [-1],\n",
       " 'this is more a case of sacre bleu   than magnifique  ': [-1],\n",
       " 'it all comes down to whether you can tolerate leon barlow  i cant  ': [-1],\n",
       " 'the entire movie is filled with deja vu moments  ': [-1],\n",
       " 'as it stands  theres some fine sex onscreen  and some tense arguing  but not a whole lot more  ': [-1],\n",
       " 'the story suffers a severe case of oversimplification  superficiality and silliness  ': [-1],\n",
       " 'the movie is too cute to take itself too seriously  but it still feels like it was made by some very stoned college students  ': [-1],\n",
       " 'its quite an achievement to set and shoot a movie at the cannes film festival and yet fail to capture its visual appeal or its atmosphere  ': [-1],\n",
       " 'mckay seems embarrassed by his own invention and tries to rush through the intermediary passages  apparently hoping that the audience will not notice the glaring triteness of the plot device he has put in service  ': [-1],\n",
       " 'stealing harvard is evidence that the farrelly bros   peter and bobby  and their brand of screen comedy are wheezing to an end  along with greens halfhearted movie career  ': [-1],\n",
       " 'well  jasons gone to manhattan and hell  i guess a space station in the year 2455 can be crossed off the list of ideas for the inevitable future sequels  hey  dont shoot the messenger   ': [-1],\n",
       " 'a wellacted  but onenote film  ': [-1],\n",
       " 'the film seems a dead weight  the lack of pace kills it  although  in a movie about cancer  this might be apt  ': [-1],\n",
       " 'this film  starring anthony hopkins and chris rock  is your typical fish out of water story  youve seen them a million times  just one problem  fish out of water usually die  this one does  ': [-1],\n",
       " 'after you laugh once  maybe twice   you will have completely forgotten the movie by the time you get back to your car in the parking lot  ': [-1],\n",
       " 'theres a whole heap of nothing at the core of this slight comingofagecomingout tale  ': [-1],\n",
       " '    a low rate annie featuring some kid who cant act  only echoes of jordan  and weirdo actor crispin glover screwing things up old school  ': [-1],\n",
       " 'feels like the work of someone who may indeed have finally aged past his prime    and  perhaps more than he realizes  just wants to be liked by the people who can still give him work  ': [-1],\n",
       " 'each story on its own could have been expanded and worked into a compelling single feature  but in its current incarnation  storytelling never quite gets over its rather lopsided conception  ': [-1],\n",
       " 'an affable but undernourished romantic comedy that fails to match the freshness of the actressproducer and writers previous collaboration  miss congeniality  ': [-1],\n",
       " 'there are deeply religious and spiritual people in this world who would argue that entering a church  synagogue or temple doesnt mean you have to check your brain at the door  the same should go for movie theaters  ': [-1],\n",
       " 'it sounds like another clever if pointless excursion into the abyss  and thats more or less how it plays out  ': [-1],\n",
       " 'the audience when i saw this one was chuckling at all the wrong times  and thats a bad sign when theyre supposed to be having a collective heart attack  ': [-1],\n",
       " 'hampered  no  paralyzed  by a selfindulgent script    that aims for poetry and ends up sounding like satire  ': [-1],\n",
       " 'this is the kind of movie that gets a quick release before real contenders arrive in september  ': [-1],\n",
       " 'heavy with flabby rolls of typical toback machinations  ': [-1],\n",
       " 'bartletts hero remains a reactive cipher  when opening the mans head and heart is the only imaginable reason for the film to be made  ': [-1],\n",
       " 'strictly a guys film in the worst sense of the expression  ': [-1],\n",
       " 'the movie slides downhill as soon as macho action conventions assert themselves  ': [-1],\n",
       " ' at its best  its black hawk down with more heart  at its worst  its rambo meetsjohn ford  ': [-1],\n",
       " '    silly humbuggery    ': [-1],\n",
       " '…passable enough for a shootout in the o  k  court house of life type of flick  strictly middle of the road  ': [-1],\n",
       " 'the film lapses too often into sugary sentiment and withholds delivery on the pellmell pyrotechnics its punchy style promises  ': [-1],\n",
       " 'a dimwitted and lazy spinoff of the animal planet documentary series  crocodile hunter is entertainment opportunism at its most glaring  ': [-1],\n",
       " 'rodriguez    was unable to reproduce the special spark between the characters that made the first film such a delight  ': [-1],\n",
       " 'zigzag might have been richer and more observant if it were less densely plotted  ': [-1],\n",
       " 'just not campy enough': [-1],\n",
       " 'a incompetência de marcus adams como roteirista só é superada por sua péssima direção  ': [-1],\n",
       " 'earnest and tentative even when it aims to shock  ': [-1],\n",
       " 'if melville is creatively a great whale  this film is canned tuna  ': [-1],\n",
       " 'denis barebones narrative more closely resembles an outline for a 70s exploitation picture than the finished product  ': [-1],\n",
       " 'its rare to see a movie that takes such a speedy swan dive from  promising  to  interesting  to  familiar  before landing squarely on  stupid   ': [-1],\n",
       " 'rare birds tries to force its quirkiness upon the audience  ': [-1],\n",
       " 'a soulless  stupid sequel    ': [-1],\n",
       " 'i spy is an embarrassment  a monotonous  disjointed jumble of borrowed plot points and situations  its as flat as an open can of pop left sitting in the sun  ': [-1],\n",
       " '    too sappy for its own good  ': [-1],\n",
       " 'if this is satire  its the smug and selfcongratulatory kind that lets the audience completely off the hook  ': [-1],\n",
       " 'an inconsequential  barely there bit of piffle  ': [-1],\n",
       " '    a pretentious and ultimately empty examination of a sick and evil woman  ': [-1],\n",
       " 'there must be an audience that enjoys the friday series  but i wouldnt be interested in knowing any of them personally  ': [-1],\n",
       " 'punitively affirmational parable  ': [-1],\n",
       " 'the sequel has turned completely and irrevocably bizarre to the point of utter nonsense  ': [-1],\n",
       " 'it stars schticky chris rock and stolid anthony hopkins  who seem barely in the same movie  their contrast is neither dramatic nor comic  its just a weird fizzle  ': [-1],\n",
       " 'according to wendigo  nature loves the members of the upper class almost as much as they love themselves  ': [-1],\n",
       " 'does little more than play an innocuous game of fillin theblanks with a tragic past  ': [-1],\n",
       " 'the film    presents classic moralcondundrum drama  what would you have done to survive  the problem with the film is whether these ambitions  laudable in themselves  justify a theatrical simulation of the death camp of auschwitz iibirkenau  ': [-1],\n",
       " 'a passable romantic comedy  in need of another couple of passes through the word processor  ': [-1],\n",
       " 'in the end  we are left with something like two ships passing in the night rather than any insights into gay love  chinese society or the price one pays for being dishonest  ': [-1],\n",
       " 'characters wander into predictably treacherous situations even though they should know better  ': [-1],\n",
       " 'there is a difference between movies with the courage to go over the top and movies that dont care about being stupid': [-1],\n",
       " 'both shrill and soporific  and because everything is repeated five or six times  it can seem tiresomely simpleminded  ': [-1],\n",
       " 'the film didnt convince me that calvin jr  s barbershop represents some sort of beacon of hope in the middle of chicagos south side  ': [-1],\n",
       " 'the central story lacks punch  ': [-1],\n",
       " 'it takes a strange kind of laziness to waste the talents of robert forster  anne meara  eugene levy  and reginald veljohnson all in the same movie  ': [-1],\n",
       " 'ah  the travails of metropolitan life  alas  another breathless movie about same  ': [-1],\n",
       " 'i firmly believe that a good video game movie is going to show up soon  i also believe that resident evil is not it  ': [-1],\n",
       " 'aside from showing us in explicit detail how difficult it is to win over the twodrinkminimum crowd  theres little to be learned from watching comedian': [-1],\n",
       " 'nothing more than four or five mild chuckles surrounded by 86 minutes of overlyfamiliar and poorlyconstructed comedy  ': [-1],\n",
       " 'predecessors the mummy and the mummy returns stand as intellectual masterpieces next to the scorpion king  ': [-1],\n",
       " 'final verdict  youve seen it all before  ': [-1],\n",
       " 'yet another iteration of whats become one of the movies creepiest conventions  in which the developmentally disabled are portrayed with almost supernatural powers to humble  teach and ultimately redeem their mentally  superior  friends  family    ': [-1],\n",
       " 'the script is a tired one  with few moments of joy rising above the stale material  ': [-1],\n",
       " 'for a guy who has waited three years with breathless anticipation for a new hal hartley movie to pore over  no such thing is a big letdown  ': [-1],\n",
       " 'its a glorified sitcom  and a long  unfunny one at that  ': [-1],\n",
       " 'its characters are thinner than cardboard  or even comicbook paper  ': [-1],\n",
       " 'the films lack of personality permeates all its aspects — from the tv movieesque  affected child acting to the dullest irish pub scenes ever filmed  ': [-1],\n",
       " 'no reason for anyone to invest their hardearned bucks into a movie which obviously didnt invest much into itself either  ': [-1],\n",
       " 'the laughs are as rare as snake foo yung  ': [-1],\n",
       " 'debut effort by  project greenlight  winner is sappy and amateurish  ': [-1],\n",
       " 'there arent many laughs in this interesting study of the cultural mores of georgian jews in tel aviv  ': [-1],\n",
       " 'dont waste your money  ': [-1],\n",
       " 'such a fine idea for a film  and such a stultifying  lifeless execution  ': [-1],\n",
       " 'chamber of secrets will find millions of eager fans  but if the essence of magic is its makebelieve promise of life that soars above the material realm  this is the opposite of a truly magical movie  ': [-1],\n",
       " 'who  exactly  is fighting whom here  ah  yes  that would be me  fighting off the urge to doze  ': [-1],\n",
       " 'report card  doesnt live up to the exalted tagline  theres definite room for improvement  doesnt deserve a passing grade  even on a curve   ': [-1],\n",
       " 'the trappings of i spy are so familiar you might as well be watching a rerun  ': [-1],\n",
       " 'this is the type of movie best enjoyed by frat boys and college kids while sucking on the bong and downing one alcoholic beverage after another  ': [-1],\n",
       " 'the film is hampered by its predictable plot and paperthin supporting characters  ': [-1],\n",
       " 'the sad thing about knockaround guys is its lame aspiration for grasping the coolness vibes when in fact the film isnt as flippant or slick as it thinks it is  ': [-1],\n",
       " 'devoid of any of the qualities that made the first film so special  ': [-1],\n",
       " 'the film equivalent of a toy chest whose contents get scattered over the course of 80 minutes  ': [-1],\n",
       " 'this is a good movie in spurts  but when it doesnt work  its at important times  ': [-1],\n",
       " 'allens best works understand why snobbery is a better satiric target than middleamerica diversions could ever be  ': [-1],\n",
       " 'theres undeniable enjoyment to be had from films crammed with movie references  but the fun wears thin  then out  when theres nothing else happening  ': [-1],\n",
       " 'my response to the film is best described as lukewarm  maybe i found the proceedings a little bit too conventional  ': [-1],\n",
       " 'director barry skolnick and his screenwriters glibly tick off every point of  the longest yard  playbook like a checklist  ': [-1],\n",
       " 'given the fact that virtually no one is bound to show up at theatres for it  the project should have been made for the tube  ': [-1],\n",
       " 'spousal abuse is a major problem in contemporary society  but the film reduces this domestic tragedy to florid melodrama  ': [-1],\n",
       " 'its not a bad plot  but  unfortunately  the movie is nowhere near as refined as all the classic dramas it borrows from  ': [-1],\n",
       " 'its a film with an idea buried somewhere inside its fabric  but never clearly seen or felt  ': [-1],\n",
       " 'love may have been in the air onscreen  but i certainly wasnt feeling any of it  ': [-1],\n",
       " 'a bigger holiday downer than your endofyear 401  k  statement  ': [-1],\n",
       " 'theres an audience for it  but it could have been funnier and more innocent  ': [-1],\n",
       " 'just a kiss is a just a waste  ': [-1],\n",
       " 'the latest adam sandler assault and possibly the worst film of the year  ': [-1],\n",
       " 'at times  the movie looks genuinely pretty  your nightmares  on the other hand  will be anything but  not even felinni would know what to make of this italian freakshow  ': [-1],\n",
       " 'unfaithful cheats on itself and retreats to comfortable territory  too bad  ': [-1],\n",
       " 'watching austin powers in goldmember is like binging on cotton candy  its sweet and fluffy at the time  but it may leave you feeling a little sticky and unsatisfied  ': [-1],\n",
       " 'goldmember has none of the visual wit of the previous pictures  and it looks as though jay roach directed the film from the back of a taxicab  ': [-1],\n",
       " 'the story has little wit and no surprises  ': [-1],\n",
       " 'most of the dialogue made me want to pack raw dough in my ears  ': [-1],\n",
       " 'the narrator and the other characters try to convince us that acting transfigures esther  but shes never seen speaking on stage  one feels cheated  and esther seems to remain an unchanged dullard  ': [-1],\n",
       " 'the man from elysian fields is a cold  blissless work that groans along thinking itself some important comment on how life throws us some beguiling curves  ': [-1],\n",
       " 'its hard to know whether or not to recommend this film because for every thing it does right theres at least one and occasionally two things it gets ever so wrong  ': [-1],\n",
       " 'its hard to quibble with a flick boasting this many genuine cackles  but notorious c  h  o  still feels like a promising workinprogress  ': [-1],\n",
       " 'it appears that something has been lost in the translation to the screen  ': [-1],\n",
       " 'its lost the politics and the social observation and become just another situation romance about a couple of saps stuck in an inarticulate screenplay  ': [-1],\n",
       " 'johnnie to and wai ka fai are sure to find an enthusiastic audience among american actionadventure buffs  but the films interests may be too narrow to attract crossover viewers  ': [-1],\n",
       " 'at least its a fairly impressive debut from the director  charles stone iii  ': [-1],\n",
       " 'slack and uninspired  and peopled mainly by characters so unsympathetic that youre left with a sour taste in your mouth  ': [-1],\n",
       " 'i was trying to decide what annoyed me most about god is great    im not  and then i realized that i just didnt care  ': [-1],\n",
       " 'a bit too derivative to stand on its own as the psychological thriller it purports to be  ': [-1],\n",
       " 'in oldfashioned screenwriting parlance  ms  shreves novel proved too difficult a text to lick   despite the efforts of a firstrate cast  ': [-1],\n",
       " 'its as if de palma spent an hour setting a fancy table and then served up kraft macaroni and cheese  ': [-1],\n",
       " 'tries to add some spice to its quirky sentiments but the taste is all too familiar  ': [-1],\n",
       " 'its difficult to discern if this is a crazy work of disturbed genius or merely 90 minutes of postadolescent electra rebellion  ': [-1],\n",
       " 'been there  done that  liked it much better the first time around  when it was called the professional  ': [-1],\n",
       " 'the piano teacher  like its title character  is repellantly out of control  ': [-1],\n",
       " 'green might want to hang onto that ski mask  as robbery may be the only way to pay for his next project  ': [-1],\n",
       " 'for single digits kidlets stuart little 2 is still a no brainer  if youre looking to rekindle the magic of the first film  youll need a stronger stomach than us  ': [-1],\n",
       " 'follows the original film virtually scene for scene and yet manages to bleed it almost completely dry of humor  verve and fun  ': [-1],\n",
       " 'fails to satisfactorily exploit its gender politics  genre thrills or inherent humor  ': [-1],\n",
       " 'the cold and dreary weather is a perfect metaphor for the movie itself  which contains few laughs and not much drama  ': [-1],\n",
       " 'takes one character we dont like and another we dont believe  and puts them into a battle of wills that is impossible to care about and isnt very funny  ': [-1],\n",
       " 'a crass and insulting homage to great films like some like it hot and the john wayne classics  ': [-1],\n",
       " 'no amount of good acting is enough to save oleanders uninspired story  ': [-1],\n",
       " 'helmer devito    attempts to do too many things in this story about ethics  payola  vice  murder  kids tv and revenge  ': [-1],\n",
       " 'a relatively effective little potboiler until its absurd  contrived  overblown  and entirely implausible finale  ': [-1],\n",
       " 'an uninspired preachy and clichéd war film  ': [-1],\n",
       " 'its not as awful as some of the recent hollywood trip tripe    but its far from a groundbreaking endeavor  ': [-1],\n",
       " 'the film flat lines when it should peak and is more missed opportunity and trifle than dark  decadent truffle  ': [-1],\n",
       " 'chos fans are sure to be entertained  its only fair in the interest of full disclosure to say that  on the basis of this film alone  im not one of them  ': [-1],\n",
       " 'woefully pretentious  ': [-1],\n",
       " 'the movies vision of a white american zealously spreading a puritanical brand of christianity to south seas islanders is one only a true believer could relish  ': [-1],\n",
       " 'morgan  judd and franklin cant save the script  rooted in a novel by joseph finder  from some opportunism  ': [-1],\n",
       " 'this wouldbe james bond for the extreme generation pic is one big  dumb action movie  stress dumb  ': [-1],\n",
       " 'what you end up getting is the vertical limit of surfing movies  memorable stunts with lots of downtime in between  ': [-1],\n",
       " 'unfunny comedy with a lot of static set ups  not much camera movement  and most of the scenes take place indoors in formal settings with motionless characters  ': [-1],\n",
       " 'there are enough throwaway references to faith and rainbows to plant smilebutton faces on that segment of the populace that made a walk to remember a niche hit  ': [-1],\n",
       " 'undone by its overly complicated and derivative screenplay  the glacierpaced direction and the stereotypical characters  ': [-1],\n",
       " 'theres a delightfully quirky movie to be made from curling  but brooms isnt it  ': [-1],\n",
       " 'its mildly interesting to ponder the peculiar american style of justice that plays out here  but its so muddled and derivative that few will bother thinking it all through  ': [-1],\n",
       " 'piccolis performance is amazing  yes  but the symbols of loss and denial and lifeatarmslength in the film seem irritatingly transparent  ': [-1],\n",
       " 'as the movie dragged on  i thought i heard a mysterious voice  and felt myself powerfully drawn toward the light  the light of the exit sign  i have returned from the beyond to warn you  this movie is 90 minutes long  and life is too short  ': [-1],\n",
       " 'the film is so packed with subplots involving the various silbersteins that it feels more like the pilot episode of a tv series than a feature film  ': [-1],\n",
       " 'these guys seem great to knock back a beer with but theyre simply not funny performers  ': [-1],\n",
       " 'perfectly enjoyable  instantly forgettable  nothing to write home about  ': [-1],\n",
       " 'one of those basedontruth stories that persuades you  with every scene  that it could never really have happened this way  ': [-1],\n",
       " 'a really good premise is frittered away in middleoftheroad blandness  ': [-1],\n",
       " 'claims to sort the bad guys from the good  which is its essential problem  ': [-1],\n",
       " 'the trouble is  its filmmakers run out of clever ideas and visual gags about halfway through  ': [-1],\n",
       " 'despite some gulps the film is a fuzzy huggy  ': [-1],\n",
       " 'ive always dreamed of attending cannes  but after seeing this film  its not that big a deal  ': [-1],\n",
       " 'i never thought id say this  but id much rather watch teens poking their genitals into fruit pies  ': [-1],\n",
       " 'sex ironically has little to do with the story  which becomes something about how lame it is to try and evade your responsibilities and that you should never  ever  leave a large dog alone with a toddler  but never mind all that  the boobs are fantasti': [-1],\n",
       " 'a painfully flat grossout comedy    ': [-1],\n",
       " 'fairly successful at faking some pretty cool stunts but a complete failure at trying to create some pretty cool characters  and forget about any attempt at a plot  ': [-1],\n",
       " 'the animation merely serves up a predictable  maudlin story that swipes heavily from bambi and the lion king  yet lacks the emotional resonance of either of those movies  ': [-1],\n",
       " 'disturbingly superficial in its approach to the material  ': [-1],\n",
       " 'go  girls  right down the reality drain  ': [-1],\n",
       " 'grant isnt cary and bullock isnt katherine  ': [-1],\n",
       " 'benignis pinocchio is extremely straight and mindnumbingly stilted  its episodic pacing keeping the film from developing any storytelling flow  ': [-1],\n",
       " 'even after 90 minutes of playing opposite each other bullock and grant still look ill at ease sharing the same scene  what should have been a painless timekiller becomes instead a grating endurance test  ': [-1],\n",
       " 'starts out strongly before quickly losing its focus  point and purpose in a mess of mixed messages  overblown drama and bruce willis with a scar  ': [-1],\n",
       " 'some movies can get by without being funny simply by structuring the scenes as if they were jokes  a setup  delivery and payoff  stealing harvard cant even do that much  each scene immediately succumbs to gravity and plummets to earth  ': [-1],\n",
       " 'its got its heart in the right place  but it also wilts after awhile  ': [-1],\n",
       " 'most of the supporting characters in eastwood films are weak  as are most of the subplots  this ones weaker than most  ': [-1],\n",
       " 'its hard to believe these jokers are supposed to have pulled off four similar kidnappings before  ': [-1],\n",
       " 'sticky sweet sentimentality  clumsy plotting and a rosily myopic view of life in the wwiiera mississippi delta undermine this adaptation  ': [-1],\n",
       " 'rumor  a muddled drama about coming to terms with death  feels impersonal  almost generic  ': [-1],\n",
       " 'simply doesnt have sufficient heft to justify its twohour running time  ': [-1],\n",
       " 'low comedy doesnt come much lower  ': [-1],\n",
       " 'its inoffensive  cheerful  built to inspire the young people  set to an unending soundtrack of beach party pop numbers and aside from its remarkable camerawork and awesome scenery  its about as exciting as a sunburn  ': [-1],\n",
       " 'this isnt a  friday  worth waiting for  ': [-1],\n",
       " 'her film is like a beautiful food entrée that isnt heated properly  so that it ends up a bit cold and relatively flavorless  ': [-1],\n",
       " 'so bland and utterly forgettable that it might as well have been titled generic jennifer lopez romantic comedy  ': [-1],\n",
       " 'a fairly harmless but ultimately lifeless featurelength afterschool special  ': [-1],\n",
       " 'this extremely unfunny film clocks in at 80 minutes  but feels twice as long  ': [-1],\n",
       " 'little more than a wellmounted history lesson  ': [-1],\n",
       " 'there is so much plodding sensitivity  ': [-1],\n",
       " 'full of witless jokes  dealing in broad stereotypes and outrageously unbelievable scenarios  and saddled with a general air of misogyny': [-1],\n",
       " 'it isnt that stealing harvard is a horrible movie—if only it were that grand a failure  its just that its so notatallgood  and i expect much more from a talent as outstanding as director bruce mcculloch  ': [-1],\n",
       " 'kirshner and monroe seem to be in a contest to see who can outbadact the other   kirshner wins  but its close   ': [-1],\n",
       " 'like its title character  esther kahn is unusual but unfortunately also irritating  ': [-1],\n",
       " 'alternative medicine obviously has its merits    but ayurveda does the field no favors  ': [-1],\n",
       " 'directed in a paintbynumbers manner  ': [-1],\n",
       " 'a predictable  manipulative stinker  the story passes time until its time for an absurd finale of twisted metal  fireballs and revenge  ': [-1],\n",
       " 'this overproduced and generally disappointing effort isnt likely to rouse the rush hour crowd  ': [-1],\n",
       " 'eddie murphy and owen wilson have a cute partnership in i spy  but the movie around them is so often nearly nothing that their charm doesnt do a load of good  ': [-1],\n",
       " 'the holiday message of the 37minute santa vs  the snowman leaves a lot to be desired  ': [-1],\n",
       " 'bigelow handles the nuclear crisis sequences evenly but milks drama when she should be building suspense  and drags out too many scenes toward the end that should move quickly  ': [-1],\n",
       " 'a combination of standard  stiff tvstyle animation and snazzylooking digital effects that do little to disguise the fact that the characters barely move  ': [-1],\n",
       " 'watching harris ham it up while physically and emotionally disintegrating over the course of the movie has a certain poignancy in light of his recent death  but boyds film offers little else of consequence  ': [-1],\n",
       " 'for its 100 minutes running time  youll wait in vain for a movie to happen  ': [-1],\n",
       " 'this picture is murder by numbers  and as easy to be bored by as your abcs  despite a few whopping shootouts  ': [-1],\n",
       " 'as with too many studio pics  plot mechanics get in the way of what should be the lighterthanair adventure  ': [-1],\n",
       " 'acting  particularly by tambor  almost makes  never again  worthwhile  but writerdirector schaeffer should follow his titular advice': [-1],\n",
       " 'ice age posits a heretofore unfathomable question  is it possible for computergenerated characters to go through the motions  ': [-1],\n",
       " 'how do you make a movie with depth about a man who lacked any  on the evidence before us  the answer is clear  not easily and  in the end  not well enough  ': [-1],\n",
       " '4ever has the same sledgehammer appeal as pokemon videos  but it breathes more on the big screen and induces headaches more slowly  ': [-1],\n",
       " 'just how extreme are these ops  i regret to report that these ops are just not extreme enough  ': [-1],\n",
       " 'as immaculate as stuart little 2 is  it could be a lot better if it were  well  more adventurous  ': [-1],\n",
       " 'memorable for a peculiar malaise that renders its tension flaccid and  by extension  its surprises limp and its resolutions ritual  ': [-1],\n",
       " 'jonathan parkers bartleby should have been the beallendall of the modernoffice anomie films  ': [-1],\n",
       " 'for all the charm of kevin kline and a story that puts oldfashioned values under the microscope  theres something creepy about this movie  ': [-1],\n",
       " 'hardly a nuanced portrait of a young womans breakdown  the film nevertheless works up a few scares  ': [-1],\n",
       " 'the characters are never more than sketches    which leaves any true emotional connection or identification frustratingly out of reach  ': [-1],\n",
       " 'what an embarrassment  ': [-1],\n",
       " 'nothing more than an amiable but unfocused bagatelle that plays like a looselyconnected string of actingworkshop exercises  ': [-1],\n",
       " 'a semiautobiographical film thats so sloppily written and cast that you cannot believe anyone more central to the creation of bugsy than the caterer had anything to do with it  ': [-1],\n",
       " 'the movie attempts to mine laughs from a genre  the gangstercrime comedy  that wore out its welcome with audiences several years ago  and its cutesy reliance on moviespecific cliches isnt exactly endearing  ': [-1],\n",
       " 'the advantage of a postapocalyptic setting is that it can be made on the cheap  any rock pile will do for a set  reign of fire has the disadvantage of also looking cheap  ': [-1],\n",
       " 'it was a dark and stormy night    ': [-1],\n",
       " 'nijinsky says  i know how to suffer and if you see this film youll know too  ': [-1],\n",
       " 'theres a scientific law to be discerned here that producers would be well to heed  mediocre movies start to drag as soon as the action speeds up  when the explosions start  they fall to pieces  ': [-1],\n",
       " 'the attempt is courageous  even if the result is wildly uneven  ': [-1],\n",
       " 'its not so much a movie as a joint promotion for the national basketball association and teenaged rap and adolescent posterboy lil bow wow  ': [-1],\n",
       " 'it is one more celluloid testimonial to the cruelties experienced by southern blacks as distilled through a caucasian perspective  ': [-1],\n",
       " 'put it somewhere between sling blade and south of heaven  west of hell in the pantheon of billy bobs body of work  ': [-1],\n",
       " ...}"
      ]
     },
     "execution_count": 132,
     "metadata": {},
     "output_type": "execute_result"
    }
   ],
   "source": [
    "negDict= {}\n",
    "for k,v in zip(cleanNeg, listNegVals):\n",
    "    negDict.setdefault(k, []).append(v)\n",
    "negDict"
   ]
  },
  {
   "cell_type": "code",
   "execution_count": 163,
   "metadata": {
    "collapsed": false
   },
   "outputs": [],
   "source": [
    "def FCalc(List,posDict,negDict):\n",
    "    truePos = 0\n",
    "    falsePos =0\n",
    "    falseNeg = 0\n",
    "    trueNeg = 0\n",
    "   \n",
    "    for string in List:\n",
    "        poscondtProb = sumCondtProb(string,len(topWords),sumpos)\n",
    "        negcondtProb = sumCondtProb(string,len(topWords),sumneg)\n",
    "        if  (poscondtProb > negcondtProb) and (posDict[string] ==1) :\n",
    "            truePos += 1\n",
    "        elif (poscondtProb > negcondtProb) and (posDict[string] !=1):\n",
    "            falsePos += 1\n",
    "        #elif (poscondtProb < negcondtProb) and (negDict[string] != -1):\n",
    "           # trueNeg +=1\n",
    "        elif (poscondtProb < negcondtProb) and (negDict[string] !=1):\n",
    "            falseNeg +=1\n",
    "        \n",
    "        \n",
    "    #print(truePos)\n",
    "    return truePos,falsePos,trueNeg,falseNeg\n",
    "        \n",
    "        \n",
    "                                "
   ]
  },
  {
   "cell_type": "code",
   "execution_count": 187,
   "metadata": {
    "collapsed": false
   },
   "outputs": [
    {
     "name": "stdout",
     "output_type": "stream",
     "text": [
      "[-1]\n",
      "[-1]\n",
      "[-1]\n",
      "[-1]\n",
      "[-1]\n",
      "[-1]\n",
      "[-1]\n",
      "[-1]\n",
      "[-1]\n",
      "[-1]\n",
      "[-1]\n",
      "[-1]\n",
      "[-1]\n",
      "[-1]\n",
      "[-1]\n",
      "[-1]\n",
      "[-1]\n",
      "[-1]\n",
      "[-1]\n",
      "[-1]\n",
      "[-1]\n",
      "[-1]\n",
      "[-1]\n",
      "[-1]\n",
      "[-1]\n",
      "[-1]\n",
      "[-1]\n",
      "[-1]\n",
      "[-1]\n",
      "[-1]\n",
      "[-1]\n",
      "[-1]\n",
      "[-1]\n",
      "[-1]\n",
      "[-1]\n",
      "[-1]\n",
      "[-1]\n",
      "[-1]\n",
      "[-1]\n",
      "[-1]\n",
      "[-1]\n",
      "[-1]\n",
      "[-1]\n",
      "[-1]\n",
      "[-1]\n",
      "[-1]\n",
      "[-1]\n",
      "[-1]\n",
      "[-1]\n",
      "[-1]\n",
      "[-1]\n",
      "[-1]\n",
      "[-1]\n",
      "[-1]\n",
      "[-1]\n",
      "[-1]\n",
      "[-1]\n",
      "[-1]\n",
      "[-1]\n",
      "[-1]\n",
      "[-1]\n",
      "[-1]\n",
      "[-1]\n",
      "[-1]\n",
      "[-1]\n",
      "[-1]\n",
      "[-1]\n",
      "[-1]\n",
      "[-1]\n",
      "[-1]\n",
      "[-1]\n",
      "[-1]\n",
      "[-1]\n",
      "[-1]\n",
      "[-1]\n",
      "[-1]\n",
      "[-1]\n",
      "[-1]\n",
      "[-1]\n",
      "[-1]\n",
      "[-1]\n",
      "[-1]\n",
      "[-1]\n",
      "[-1]\n",
      "[-1]\n"
     ]
    }
   ],
   "source": [
    "for string in train_data:\n",
    "    poscondtProb = sumCondtProb(string,len(topWords),sumpos)\n",
    "    negcondtProb = sumCondtProb(string,len(topWords),sumneg)\n",
    "    if (poscondtProb > negcondtProb):\n",
    "        pred = 1\n",
    "    elif(poscondtProb > negcondtProb)  :\n",
    "        pred = -1\n",
    "    listpreds = []\n",
    "    listpreds.append(pred)\n",
    "    print(listpreds)"
   ]
  },
  {
   "cell_type": "code",
   "execution_count": null,
   "metadata": {
    "collapsed": false
   },
   "outputs": [],
   "source": []
  },
  {
   "cell_type": "code",
   "execution_count": null,
   "metadata": {
    "collapsed": true
   },
   "outputs": [],
   "source": []
  },
  {
   "cell_type": "code",
   "execution_count": null,
   "metadata": {
    "collapsed": true
   },
   "outputs": [],
   "source": []
  },
  {
   "cell_type": "code",
   "execution_count": null,
   "metadata": {
    "collapsed": true
   },
   "outputs": [],
   "source": []
  },
  {
   "cell_type": "code",
   "execution_count": null,
   "metadata": {
    "collapsed": true
   },
   "outputs": [],
   "source": []
  }
 ],
 "metadata": {
  "anaconda-cloud": {},
  "kernelspec": {
   "display_name": "Python [conda root]",
   "language": "python",
   "name": "conda-root-py"
  },
  "language_info": {
   "codemirror_mode": {
    "name": "ipython",
    "version": 3
   },
   "file_extension": ".py",
   "mimetype": "text/x-python",
   "name": "python",
   "nbconvert_exporter": "python",
   "pygments_lexer": "ipython3",
   "version": "3.5.2"
  }
 },
 "nbformat": 4,
 "nbformat_minor": 0
}
